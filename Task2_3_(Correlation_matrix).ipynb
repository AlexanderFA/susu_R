{
 "nbformat": 4,
 "nbformat_minor": 0,
 "metadata": {
  "colab": {
   "provenance": []
  },
  "kernelspec": {
   "name": "python3",
   "display_name": "Python 3"
  },
  "language_info": {
   "name": "python"
  }
 },
 "cells": [
  {
   "cell_type": "code",
   "source": [
    "!pip uninstall rpy2 -y\n",
    "!pip install rpy2==3.0.0"
   ],
   "metadata": {
    "colab": {
     "base_uri": "https://localhost:8080/",
     "height": 453
    },
    "id": "4guyRnKjsYW0",
    "outputId": "1da492a6-c2d1-4700-bbc0-a8cdab7a5272",
    "pycharm": {
     "name": "#%%\n"
    }
   },
   "execution_count": 8,
   "outputs": [
    {
     "output_type": "stream",
     "name": "stdout",
     "text": [
      "Found existing installation: rpy2 3.0.0\n",
      "Uninstalling rpy2-3.0.0:\n",
      "  Successfully uninstalled rpy2-3.0.0\n",
      "Looking in indexes: https://pypi.org/simple, https://us-python.pkg.dev/colab-wheels/public/simple/\n",
      "Collecting rpy2==3.0.0\n",
      "  Using cached rpy2-3.0.0-py3-none-any.whl\n",
      "Requirement already satisfied: simplegeneric in /usr/local/lib/python3.9/dist-packages (from rpy2==3.0.0) (0.8.1)\n",
      "Requirement already satisfied: pytest in /usr/local/lib/python3.9/dist-packages (from rpy2==3.0.0) (7.2.2)\n",
      "Requirement already satisfied: jinja2 in /usr/local/lib/python3.9/dist-packages (from rpy2==3.0.0) (3.1.2)\n",
      "Requirement already satisfied: cffi>=1.0.0 in /usr/local/lib/python3.9/dist-packages (from rpy2==3.0.0) (1.15.1)\n",
      "Requirement already satisfied: pycparser in /usr/local/lib/python3.9/dist-packages (from cffi>=1.0.0->rpy2==3.0.0) (2.21)\n",
      "Requirement already satisfied: MarkupSafe>=2.0 in /usr/local/lib/python3.9/dist-packages (from jinja2->rpy2==3.0.0) (2.1.2)\n",
      "Requirement already satisfied: exceptiongroup>=1.0.0rc8 in /usr/local/lib/python3.9/dist-packages (from pytest->rpy2==3.0.0) (1.1.1)\n",
      "Requirement already satisfied: pluggy<2.0,>=0.12 in /usr/local/lib/python3.9/dist-packages (from pytest->rpy2==3.0.0) (1.0.0)\n",
      "Requirement already satisfied: attrs>=19.2.0 in /usr/local/lib/python3.9/dist-packages (from pytest->rpy2==3.0.0) (22.2.0)\n",
      "Requirement already satisfied: iniconfig in /usr/local/lib/python3.9/dist-packages (from pytest->rpy2==3.0.0) (2.0.0)\n",
      "Requirement already satisfied: packaging in /usr/local/lib/python3.9/dist-packages (from pytest->rpy2==3.0.0) (23.0)\n",
      "Requirement already satisfied: tomli>=1.0.0 in /usr/local/lib/python3.9/dist-packages (from pytest->rpy2==3.0.0) (2.0.1)\n",
      "Installing collected packages: rpy2\n",
      "Successfully installed rpy2-3.0.0\n"
     ]
    },
    {
     "output_type": "display_data",
     "data": {
      "application/vnd.colab-display-data+json": {
       "pip_warning": {
        "packages": [
         "_rinterface_cffi",
         "rpy2"
        ]
       }
      }
     },
     "metadata": {}
    }
   ]
  },
  {
   "cell_type": "code",
   "execution_count": 5,
   "metadata": {
    "id": "97mjy6AqmuW1",
    "colab": {
     "base_uri": "https://localhost:8080/"
    },
    "outputId": "60ef6e95-0ef6-4af2-c8f1-2adda1dec93d",
    "pycharm": {
     "name": "#%%\n"
    }
   },
   "outputs": [
    {
     "output_type": "stream",
     "name": "stdout",
     "text": [
      "Mounted at /content/drive\n",
      "The rpy2.ipython extension is already loaded. To reload it, use:\n",
      "  %reload_ext rpy2.ipython\n"
     ]
    }
   ],
   "source": [
    "from google.colab import drive\n",
    "drive.mount('/content/drive')\n",
    "%load_ext rpy2.ipython\n"
   ]
  },
  {
   "cell_type": "code",
   "source": [
    "# drive.flush_and_unmount()"
   ],
   "metadata": {
    "id": "EKpOcUBp5_gT",
    "pycharm": {
     "name": "#%%\n"
    }
   },
   "execution_count": null,
   "outputs": []
  },
  {
   "cell_type": "code",
   "source": [
    "%%R\n",
    "# data <- read.csv(\"/content/drive/My Drive/Colab Notebooks/R/task2/StudentsPerformance.csv\")\n",
    "data <- read.csv(\"/content/drive/MyDrive/Colab Notebooks/R/task2/Iris.csv\")\n",
    "head(data)"
   ],
   "metadata": {
    "colab": {
     "base_uri": "https://localhost:8080/",
     "height": 153
    },
    "id": "iqgZndxXsDXN",
    "outputId": "716cc4bd-ed73-4b64-b203-562dd2454cb7",
    "pycharm": {
     "name": "#%%\n"
    }
   },
   "execution_count": 17,
   "outputs": [
    {
     "output_type": "display_data",
     "data": {
      "text/plain": [
       "  Id SepalLengthCm SepalWidthCm PetalLengthCm PetalWidthCm     Species\n",
       "1  1           5.1          3.5           1.4          0.2 Iris-setosa\n",
       "2  2           4.9          3.0           1.4          0.2 Iris-setosa\n",
       "3  3           4.7          3.2           1.3          0.2 Iris-setosa\n",
       "4  4           4.6          3.1           1.5          0.2 Iris-setosa\n",
       "5  5           5.0          3.6           1.4          0.2 Iris-setosa\n",
       "6  6           5.4          3.9           1.7          0.4 Iris-setosa\n"
      ]
     },
     "metadata": {}
    }
   ]
  },
  {
   "cell_type": "code",
   "source": [
    "%%R\n",
    "names(data)"
   ],
   "metadata": {
    "colab": {
     "base_uri": "https://localhost:8080/",
     "height": 71
    },
    "id": "3esSQ3h0O9k3",
    "outputId": "897d9c2b-4bbf-46a1-e2c1-3408f00f5dc7",
    "pycharm": {
     "name": "#%%\n"
    }
   },
   "execution_count": 18,
   "outputs": [
    {
     "output_type": "display_data",
     "data": {
      "text/plain": [
       "[1] \"Id\"            \"SepalLengthCm\" \"SepalWidthCm\"  \"PetalLengthCm\"\n",
       "[5] \"PetalWidthCm\"  \"Species\"      \n"
      ]
     },
     "metadata": {}
    }
   ]
  },
  {
   "cell_type": "code",
   "source": [
    "%%R\n",
    "summary(data)"
   ],
   "metadata": {
    "colab": {
     "base_uri": "https://localhost:8080/",
     "height": 269
    },
    "id": "WGmT0SAKPQDa",
    "outputId": "5607ab37-1a47-47db-dd1c-32c6e2bf4636",
    "pycharm": {
     "name": "#%%\n"
    }
   },
   "execution_count": 19,
   "outputs": [
    {
     "output_type": "display_data",
     "data": {
      "text/plain": [
       "       Id         SepalLengthCm    SepalWidthCm   PetalLengthCm  \n",
       " Min.   :  1.00   Min.   :4.300   Min.   :2.000   Min.   :1.000  \n",
       " 1st Qu.: 38.25   1st Qu.:5.100   1st Qu.:2.800   1st Qu.:1.600  \n",
       " Median : 75.50   Median :5.800   Median :3.000   Median :4.350  \n",
       " Mean   : 75.50   Mean   :5.843   Mean   :3.054   Mean   :3.759  \n",
       " 3rd Qu.:112.75   3rd Qu.:6.400   3rd Qu.:3.300   3rd Qu.:5.100  \n",
       " Max.   :150.00   Max.   :7.900   Max.   :4.400   Max.   :6.900  \n",
       "  PetalWidthCm     Species         \n",
       " Min.   :0.100   Length:150        \n",
       " 1st Qu.:0.300   Class :character  \n",
       " Median :1.300   Mode  :character  \n",
       " Mean   :1.199                     \n",
       " 3rd Qu.:1.800                     \n",
       " Max.   :2.500                     \n"
      ]
     },
     "metadata": {}
    }
   ]
  },
  {
   "cell_type": "code",
   "source": [
    "%%R\n",
    "cor_matrix <- cor(data[,2:5])\n",
    "cor_matrix"
   ],
   "metadata": {
    "colab": {
     "base_uri": "https://localhost:8080/",
     "height": 120
    },
    "id": "vSV-uE9SP-uk",
    "outputId": "a900179f-ec1d-4071-ee58-61718baf662c",
    "pycharm": {
     "name": "#%%\n"
    }
   },
   "execution_count": 22,
   "outputs": [
    {
     "output_type": "display_data",
     "data": {
      "text/plain": [
       "              SepalLengthCm SepalWidthCm PetalLengthCm PetalWidthCm\n",
       "SepalLengthCm     1.0000000   -0.1093692     0.8717542    0.8179536\n",
       "SepalWidthCm     -0.1093692    1.0000000    -0.4205161   -0.3565441\n",
       "PetalLengthCm     0.8717542   -0.4205161     1.0000000    0.9627571\n",
       "PetalWidthCm      0.8179536   -0.3565441     0.9627571    1.0000000\n"
      ]
     },
     "metadata": {}
    }
   ]
  },
  {
   "cell_type": "code",
   "source": [],
   "metadata": {
    "id": "0uwn4sjVQBzk",
    "pycharm": {
     "name": "#%%\n"
    }
   },
   "execution_count": null,
   "outputs": []
  }
 ]
}