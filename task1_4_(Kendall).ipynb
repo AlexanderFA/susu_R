{
  "nbformat": 4,
  "nbformat_minor": 0,
  "metadata": {
    "colab": {
      "provenance": []
    },
    "kernelspec": {
      "name": "ir",
      "display_name": "R"
    },
    "language_info": {
      "name": "R"
    },
    "gpuClass": "standard"
  },
  "cells": [
    {
      "cell_type": "code",
      "source": [
        "columns <- c(\"Черты личности\", \"Муж\", \"Жена\")\n",
        "matrix_data <- matrix(c(\n",
        "    'Общительность', 1, 5, \n",
        "    'Выносливость', 2, 6, \n",
        "    'Сдержанность', 3, 7, \n",
        "    'Терпеливость', 4, 3, \n",
        "    'Жизнерадостность', 5, 4, \n",
        "    'Отзывчивость', 6, 2, \n",
        "    'Ответственность', 7, 1\n",
        "),  ncol = 3, byrow = TRUE, dimnames = list(NULL, columns))\n",
        "matrix_data\n",
        "\n",
        "coincidences = rep(0, 7)\n",
        "inversions = rep(0, 7)\n",
        "\n",
        "n = nrow(matrix_data)\n",
        "for(row in 1:(n - 1)) {\n",
        "  counter <- 0\n",
        "  counter_inversion <- 0\n",
        "  for(row_below in (row + 1):n) {\n",
        "    if (matrix_data[row_below, 3] > matrix_data[row, 3]) {\n",
        "      counter <- counter + 1\n",
        "    } else {\n",
        "      counter_inversion <- counter_inversion + 1\n",
        "    }\n",
        "  }\n",
        "  coincidences[row] <- counter\n",
        "  inversions[row] <- counter_inversion\n",
        "}\n",
        "\n",
        "matrix_data <- cbind(matrix_data, coincidences)\n",
        "matrix_data <- cbind(matrix_data, inversions)\n",
        "matrix_data\n"
      ],
      "metadata": {
        "colab": {
          "base_uri": "https://localhost:8080/",
          "height": 549
        },
        "id": "8V6VTddV7IXF",
        "outputId": "bf60670e-f0f8-47d5-c8a0-a45450c9954b"
      },
      "execution_count": 17,
      "outputs": [
        {
          "output_type": "display_data",
          "data": {
            "text/html": [
              "<table class=\"dataframe\">\n",
              "<caption>A matrix: 7 × 3 of type chr</caption>\n",
              "<thead>\n",
              "\t<tr><th scope=col>Черты личности</th><th scope=col>Муж</th><th scope=col>Жена</th></tr>\n",
              "</thead>\n",
              "<tbody>\n",
              "\t<tr><td>Общительность   </td><td>1</td><td>5</td></tr>\n",
              "\t<tr><td>Выносливость    </td><td>2</td><td>6</td></tr>\n",
              "\t<tr><td>Сдержанность    </td><td>3</td><td>7</td></tr>\n",
              "\t<tr><td>Терпеливость    </td><td>4</td><td>3</td></tr>\n",
              "\t<tr><td>Жизнерадостность</td><td>5</td><td>4</td></tr>\n",
              "\t<tr><td>Отзывчивость    </td><td>6</td><td>2</td></tr>\n",
              "\t<tr><td>Ответственность </td><td>7</td><td>1</td></tr>\n",
              "</tbody>\n",
              "</table>\n"
            ],
            "text/markdown": "\nA matrix: 7 × 3 of type chr\n\n| Черты личности | Муж | Жена |\n|---|---|---|\n| Общительность    | 1 | 5 |\n| Выносливость     | 2 | 6 |\n| Сдержанность     | 3 | 7 |\n| Терпеливость     | 4 | 3 |\n| Жизнерадостность | 5 | 4 |\n| Отзывчивость     | 6 | 2 |\n| Ответственность  | 7 | 1 |\n\n",
            "text/latex": "A matrix: 7 × 3 of type chr\n\\begin{tabular}{lll}\n Черты личности & Муж & Жена\\\\\n\\hline\n\t Общительность    & 1 & 5\\\\\n\t Выносливость     & 2 & 6\\\\\n\t Сдержанность     & 3 & 7\\\\\n\t Терпеливость     & 4 & 3\\\\\n\t Жизнерадостность & 5 & 4\\\\\n\t Отзывчивость     & 6 & 2\\\\\n\t Ответственность  & 7 & 1\\\\\n\\end{tabular}\n",
            "text/plain": [
              "     Черты личности   Муж Жена\n",
              "[1,] Общительность    1   5   \n",
              "[2,] Выносливость     2   6   \n",
              "[3,] Сдержанность     3   7   \n",
              "[4,] Терпеливость     4   3   \n",
              "[5,] Жизнерадостность 5   4   \n",
              "[6,] Отзывчивость     6   2   \n",
              "[7,] Ответственность  7   1   "
            ]
          },
          "metadata": {}
        },
        {
          "output_type": "display_data",
          "data": {
            "text/html": [
              "<table class=\"dataframe\">\n",
              "<caption>A matrix: 7 × 5 of type chr</caption>\n",
              "<thead>\n",
              "\t<tr><th scope=col>Черты личности</th><th scope=col>Муж</th><th scope=col>Жена</th><th scope=col>coincidences</th><th scope=col>inversions</th></tr>\n",
              "</thead>\n",
              "<tbody>\n",
              "\t<tr><td>Общительность   </td><td>1</td><td>5</td><td>2</td><td>4</td></tr>\n",
              "\t<tr><td>Выносливость    </td><td>2</td><td>6</td><td>1</td><td>4</td></tr>\n",
              "\t<tr><td>Сдержанность    </td><td>3</td><td>7</td><td>0</td><td>4</td></tr>\n",
              "\t<tr><td>Терпеливость    </td><td>4</td><td>3</td><td>1</td><td>2</td></tr>\n",
              "\t<tr><td>Жизнерадостность</td><td>5</td><td>4</td><td>0</td><td>2</td></tr>\n",
              "\t<tr><td>Отзывчивость    </td><td>6</td><td>2</td><td>0</td><td>1</td></tr>\n",
              "\t<tr><td>Ответственность </td><td>7</td><td>1</td><td>0</td><td>0</td></tr>\n",
              "</tbody>\n",
              "</table>\n"
            ],
            "text/markdown": "\nA matrix: 7 × 5 of type chr\n\n| Черты личности | Муж | Жена | coincidences | inversions |\n|---|---|---|---|---|\n| Общительность    | 1 | 5 | 2 | 4 |\n| Выносливость     | 2 | 6 | 1 | 4 |\n| Сдержанность     | 3 | 7 | 0 | 4 |\n| Терпеливость     | 4 | 3 | 1 | 2 |\n| Жизнерадостность | 5 | 4 | 0 | 2 |\n| Отзывчивость     | 6 | 2 | 0 | 1 |\n| Ответственность  | 7 | 1 | 0 | 0 |\n\n",
            "text/latex": "A matrix: 7 × 5 of type chr\n\\begin{tabular}{lllll}\n Черты личности & Муж & Жена & coincidences & inversions\\\\\n\\hline\n\t Общительность    & 1 & 5 & 2 & 4\\\\\n\t Выносливость     & 2 & 6 & 1 & 4\\\\\n\t Сдержанность     & 3 & 7 & 0 & 4\\\\\n\t Терпеливость     & 4 & 3 & 1 & 2\\\\\n\t Жизнерадостность & 5 & 4 & 0 & 2\\\\\n\t Отзывчивость     & 6 & 2 & 0 & 1\\\\\n\t Ответственность  & 7 & 1 & 0 & 0\\\\\n\\end{tabular}\n",
            "text/plain": [
              "     Черты личности   Муж Жена coincidences inversions\n",
              "[1,] Общительность    1   5    2            4         \n",
              "[2,] Выносливость     2   6    1            4         \n",
              "[3,] Сдержанность     3   7    0            4         \n",
              "[4,] Терпеливость     4   3    1            2         \n",
              "[5,] Жизнерадостность 5   4    0            2         \n",
              "[6,] Отзывчивость     6   2    0            1         \n",
              "[7,] Ответственность  7   1    0            0         "
            ]
          },
          "metadata": {}
        }
      ]
    },
    {
      "cell_type": "code",
      "source": [
        "P <- sum(coincidences)\n",
        "Q <- sum(inversions)\n",
        "P\n",
        "Q"
      ],
      "metadata": {
        "colab": {
          "base_uri": "https://localhost:8080/",
          "height": 51
        },
        "id": "hlv8sDhH9EfN",
        "outputId": "83f144fb-9fe8-4ace-e817-0f70ae86baa3"
      },
      "execution_count": 26,
      "outputs": [
        {
          "output_type": "display_data",
          "data": {
            "text/html": [
              "4"
            ],
            "text/markdown": "4",
            "text/latex": "4",
            "text/plain": [
              "[1] 4"
            ]
          },
          "metadata": {}
        },
        {
          "output_type": "display_data",
          "data": {
            "text/html": [
              "17"
            ],
            "text/markdown": "17",
            "text/latex": "17",
            "text/plain": [
              "[1] 17"
            ]
          },
          "metadata": {}
        }
      ]
    },
    {
      "cell_type": "code",
      "source": [
        "Temp = (P - Q) / (n * (n - 1) / 2)\n",
        "Temp"
      ],
      "metadata": {
        "colab": {
          "base_uri": "https://localhost:8080/",
          "height": 34
        },
        "id": "BLOPKOiP9Qkp",
        "outputId": "da4ed529-0d21-44a6-e558-b374e3049141"
      },
      "execution_count": 28,
      "outputs": [
        {
          "output_type": "display_data",
          "data": {
            "text/html": [
              "-0.619047619047619"
            ],
            "text/markdown": "-0.619047619047619",
            "text/latex": "-0.619047619047619",
            "text/plain": [
              "[1] -0.6190476"
            ]
          },
          "metadata": {}
        }
      ]
    },
    {
      "cell_type": "code",
      "source": [
        "Tphi = abs(Temp) * sqrt((n - 2) / (1 - (Temp * Temp)))\n",
        "Tphi"
      ],
      "metadata": {
        "colab": {
          "base_uri": "https://localhost:8080/",
          "height": 34
        },
        "id": "6XoAh1IJ98Q-",
        "outputId": "56933342-c942-42e1-f300-12c2efd8e15b"
      },
      "execution_count": 33,
      "outputs": [
        {
          "output_type": "display_data",
          "data": {
            "text/html": [
              "1.76255996977658"
            ],
            "text/markdown": "1.76255996977658",
            "text/latex": "1.76255996977658",
            "text/plain": [
              "[1] 1.76256"
            ]
          },
          "metadata": {}
        }
      ]
    },
    {
      "cell_type": "code",
      "source": [
        "Tcrit = 2.57\n",
        "\n",
        "if (Tphi < Tcrit) {\n",
        "  cat(\"принимается H0 - не обнаружили никакой связи\\n\")\n",
        "} else {\n",
        "  cat(\"принимается H1 - связь есть\\n\")\n",
        "}"
      ],
      "metadata": {
        "colab": {
          "base_uri": "https://localhost:8080/"
        },
        "id": "btaKaK2U-LDs",
        "outputId": "abad29e9-0eb1-4efa-9642-ee73823cb0e1"
      },
      "execution_count": 36,
      "outputs": [
        {
          "output_type": "stream",
          "name": "stdout",
          "text": [
            "принимается H0 - не обнаружили никакой связи\n"
          ]
        }
      ]
    },
    {
      "cell_type": "code",
      "source": [],
      "metadata": {
        "id": "tT03hiHl-3SC"
      },
      "execution_count": null,
      "outputs": []
    }
  ]
}