{
 "nbformat": 4,
 "nbformat_minor": 0,
 "metadata": {
  "colab": {
   "provenance": []
  },
  "kernelspec": {
   "name": "ir",
   "display_name": "R"
  },
  "language_info": {
   "name": "R"
  },
  "gpuClass": "standard"
 },
 "cells": [
  {
   "cell_type": "code",
   "metadata": {
    "id": "H8dxUFcROZSi",
    "colab": {
     "base_uri": "https://localhost:8080/",
     "height": 178
    },
    "outputId": "c59a9210-e004-4a07-baa4-b8522626b746",
    "pycharm": {
     "name": "#%%\n"
    }
   },
   "source": [
    "studentA <- c(2, 14, 5, 7, 13, 1, 4, 6, 16, 15, 12, 17, 11, 8, 3, 18, 10, 9)\n",
    "studentB <- c(2, 18, 12, 4, 14, 1, 6, 5, 17, 11, 10, 16, 13, 9, 3, 15, 8, 7)\n",
    "\n",
    "cor.test(studentA, studentB, method = \"spearman\", alternative = \"two.sided\", conf.level = 0.05)"
   ],
   "execution_count": 19,
   "outputs": [
    {
     "output_type": "display_data",
     "data": {
      "text/plain": [
       "\n",
       "\tSpearman's rank correlation rho\n",
       "\n",
       "data:  studentA and studentB\n",
       "S = 124, p-value < 2.2e-16\n",
       "alternative hypothesis: true rho is not equal to 0\n",
       "sample estimates:\n",
       "     rho \n",
       "0.872033 \n"
      ]
     },
     "metadata": {}
    }
   ]
  },
  {
   "cell_type": "code",
   "source": [
    "n <- length(studentA)\n",
    "\n",
    "r_s1 <- 1 - 6 * sum((studentA - studentB)^2) / (n * (n^2 - 1))\n",
    "r_kp <- 0.47 # критическое значение при n = 18\n",
    "\n",
    "cat(\"коэффициент корреляции Спирмена равен\", round(r_s1, 2), \"\\n\")\n",
    "\n",
    "if (r_kp < r_s1) {\n",
    "  cat(\"H0 отвергается, принимается H1 - коэффициент значим\\n\")\n",
    "} else {\n",
    "  cat(\"H0 принимается - коэффициент не значим\\n\")\n",
    "}\n",
    "\n"
   ],
   "metadata": {
    "colab": {
     "base_uri": "https://localhost:8080/"
    },
    "id": "_3kgXwqwiLa9",
    "outputId": "c7508d99-f283-445a-aa03-c991b0ae551a",
    "pycharm": {
     "name": "#%%\n"
    }
   },
   "execution_count": 17,
   "outputs": [
    {
     "output_type": "stream",
     "name": "stdout",
     "text": [
      "коэффициент корреляции Спирмена равен 0.87 \n",
      "H0 отвергается, принимается H1 - коэффициент значим\n"
     ]
    }
   ]
  },
  {
   "cell_type": "code",
   "source": [],
   "metadata": {
    "id": "gulP0SzXil5N",
    "pycharm": {
     "name": "#%%\n"
    }
   },
   "execution_count": null,
   "outputs": []
  }
 ]
}