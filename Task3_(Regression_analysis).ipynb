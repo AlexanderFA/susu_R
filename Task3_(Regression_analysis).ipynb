{
  "nbformat": 4,
  "nbformat_minor": 0,
  "metadata": {
    "colab": {
      "provenance": []
    },
    "kernelspec": {
      "name": "python3",
      "display_name": "Python 3"
    },
    "language_info": {
      "name": "python"
    }
  },
  "cells": [
    {
      "cell_type": "code",
      "source": [
        "!pip uninstall rpy2 -y\n",
        "!pip install rpy2==3.0.0"
      ],
      "metadata": {
        "colab": {
          "base_uri": "https://localhost:8080/"
        },
        "id": "4guyRnKjsYW0",
        "outputId": "653ec2e9-53b2-42ae-cd48-92089841beae"
      },
      "execution_count": 1,
      "outputs": [
        {
          "output_type": "stream",
          "name": "stdout",
          "text": [
            "Found existing installation: rpy2 3.5.5\n",
            "Uninstalling rpy2-3.5.5:\n",
            "  Successfully uninstalled rpy2-3.5.5\n",
            "Looking in indexes: https://pypi.org/simple, https://us-python.pkg.dev/colab-wheels/public/simple/\n",
            "Collecting rpy2==3.0.0\n",
            "  Downloading rpy2-3.0.0.tar.gz (117 kB)\n",
            "\u001b[2K     \u001b[90m━━━━━━━━━━━━━━━━━━━━━━━━━━━━━━━━━━━━━━━\u001b[0m \u001b[32m117.0/117.0 KB\u001b[0m \u001b[31m2.8 MB/s\u001b[0m eta \u001b[36m0:00:00\u001b[0m\n",
            "\u001b[?25h  Preparing metadata (setup.py) ... \u001b[?25l\u001b[?25hdone\n",
            "Requirement already satisfied: pytest in /usr/local/lib/python3.9/dist-packages (from rpy2==3.0.0) (7.2.2)\n",
            "Requirement already satisfied: jinja2 in /usr/local/lib/python3.9/dist-packages (from rpy2==3.0.0) (3.1.2)\n",
            "Collecting simplegeneric\n",
            "  Downloading simplegeneric-0.8.1.zip (12 kB)\n",
            "  Preparing metadata (setup.py) ... \u001b[?25l\u001b[?25hdone\n",
            "Requirement already satisfied: cffi>=1.0.0 in /usr/local/lib/python3.9/dist-packages (from rpy2==3.0.0) (1.15.1)\n",
            "Requirement already satisfied: pycparser in /usr/local/lib/python3.9/dist-packages (from cffi>=1.0.0->rpy2==3.0.0) (2.21)\n",
            "Requirement already satisfied: MarkupSafe>=2.0 in /usr/local/lib/python3.9/dist-packages (from jinja2->rpy2==3.0.0) (2.1.2)\n",
            "Requirement already satisfied: exceptiongroup>=1.0.0rc8 in /usr/local/lib/python3.9/dist-packages (from pytest->rpy2==3.0.0) (1.1.1)\n",
            "Requirement already satisfied: packaging in /usr/local/lib/python3.9/dist-packages (from pytest->rpy2==3.0.0) (23.0)\n",
            "Requirement already satisfied: tomli>=1.0.0 in /usr/local/lib/python3.9/dist-packages (from pytest->rpy2==3.0.0) (2.0.1)\n",
            "Requirement already satisfied: pluggy<2.0,>=0.12 in /usr/local/lib/python3.9/dist-packages (from pytest->rpy2==3.0.0) (1.0.0)\n",
            "Requirement already satisfied: iniconfig in /usr/local/lib/python3.9/dist-packages (from pytest->rpy2==3.0.0) (2.0.0)\n",
            "Requirement already satisfied: attrs>=19.2.0 in /usr/local/lib/python3.9/dist-packages (from pytest->rpy2==3.0.0) (22.2.0)\n",
            "Building wheels for collected packages: rpy2, simplegeneric\n",
            "  Building wheel for rpy2 (setup.py) ... \u001b[?25l\u001b[?25hdone\n",
            "  Created wheel for rpy2: filename=rpy2-3.0.0-py3-none-any.whl size=106519 sha256=16e8d13ecc5220bd500f7edf21431b5ed03044f4160bc666fb5578095fcf7f49\n",
            "  Stored in directory: /root/.cache/pip/wheels/cf/c3/f6/e528c1472dbc76917f525029a132cd7f61efc97b3d8ba7085f\n",
            "  Building wheel for simplegeneric (setup.py) ... \u001b[?25l\u001b[?25hdone\n",
            "  Created wheel for simplegeneric: filename=simplegeneric-0.8.1-py3-none-any.whl size=5077 sha256=29b94d9bc3f8b1be0e17ef4c584b83853d20a53d12d55feaa2c9b99794fe0b15\n",
            "  Stored in directory: /root/.cache/pip/wheels/a7/bd/0d/d95b629ee4a7368830202858e45ac76cd837a42cafa50da81e\n",
            "Successfully built rpy2 simplegeneric\n",
            "Installing collected packages: simplegeneric, rpy2\n",
            "Successfully installed rpy2-3.0.0 simplegeneric-0.8.1\n"
          ]
        }
      ]
    },
    {
      "cell_type": "code",
      "execution_count": 2,
      "metadata": {
        "id": "97mjy6AqmuW1",
        "colab": {
          "base_uri": "https://localhost:8080/"
        },
        "outputId": "e56d4ce2-9097-4202-ba41-2f4a572f53b0"
      },
      "outputs": [
        {
          "output_type": "stream",
          "name": "stdout",
          "text": [
            "Mounted at /content/drive\n"
          ]
        },
        {
          "output_type": "stream",
          "name": "stderr",
          "text": [
            "/usr/local/lib/python3.9/dist-packages/rpy2/robjects/pandas2ri.py:15: FutureWarning: pandas.core.index is deprecated and will be removed in a future version. The public classes are available in the top-level namespace.\n",
            "  from pandas.core.index import Index as PandasIndex\n"
          ]
        }
      ],
      "source": [
        "from google.colab import drive\n",
        "drive.mount('/content/drive')\n",
        "%load_ext rpy2.ipython\n"
      ]
    },
    {
      "cell_type": "code",
      "source": [
        "# drive.flush_and_unmount()"
      ],
      "metadata": {
        "id": "EKpOcUBp5_gT"
      },
      "execution_count": null,
      "outputs": []
    },
    {
      "cell_type": "code",
      "source": [
        "%%R\n",
        "# data <- read.csv(\"/content/drive/My Drive/Colab Notebooks/R/task2/StudentsPerformance.csv\")\n",
        "data <- read.csv(\"/content/drive/MyDrive/Colab Notebooks/R/task3/flight_statistics.csv\")\n",
        "head(data)"
      ],
      "metadata": {
        "colab": {
          "base_uri": "https://localhost:8080/",
          "height": 153
        },
        "id": "iqgZndxXsDXN",
        "outputId": "15b96ef9-baeb-4233-b9b6-c73fc3ad0652"
      },
      "execution_count": 29,
      "outputs": [
        {
          "output_type": "display_data",
          "data": {
            "text/plain": [
              "  Transport.weight..tons Speed..km.h Fuel.consumption..l.100.km\n",
              "1                  19.75       67.08                      22.99\n",
              "2                  20.00       63.40                      25.32\n",
              "3                  20.18       69.54                      23.16\n",
              "4                  20.33       66.83                      22.72\n",
              "5                  21.00       67.60                      22.86\n",
              "6                  21.20       68.84                      22.67\n"
            ]
          },
          "metadata": {}
        }
      ]
    },
    {
      "cell_type": "code",
      "source": [
        "%%R\n",
        "names(data)"
      ],
      "metadata": {
        "colab": {
          "base_uri": "https://localhost:8080/",
          "height": 54
        },
        "id": "3esSQ3h0O9k3",
        "outputId": "491e1e15-6322-4d78-a9bc-ab2ffcfbb76a"
      },
      "execution_count": 30,
      "outputs": [
        {
          "output_type": "display_data",
          "data": {
            "text/plain": [
              "[1] \"Transport.weight..tons\"     \"Speed..km.h\"                \"Fuel.consumption..l.100.km\"\n"
            ]
          },
          "metadata": {}
        }
      ]
    },
    {
      "cell_type": "code",
      "source": [
        "%%R\n",
        "summary(data)"
      ],
      "metadata": {
        "colab": {
          "base_uri": "https://localhost:8080/",
          "height": 153
        },
        "id": "WGmT0SAKPQDa",
        "outputId": "563aea6a-45ac-4099-82ed-376777fc0f9a"
      },
      "execution_count": 31,
      "outputs": [
        {
          "output_type": "display_data",
          "data": {
            "text/plain": [
              " Transport.weight..tons  Speed..km.h    Fuel.consumption..l.100.km\n",
              " Min.   :19.75          Min.   :56.55   Min.   :21.87             \n",
              " 1st Qu.:28.07          1st Qu.:68.33   1st Qu.:25.85             \n",
              " Median :33.29          Median :70.70   Median :27.80             \n",
              " Mean   :31.68          Mean   :70.51   Mean   :27.72             \n",
              " 3rd Qu.:35.43          3rd Qu.:73.10   3rd Qu.:29.69             \n",
              " Max.   :40.00          Max.   :80.40   Max.   :34.59             \n"
            ]
          },
          "metadata": {}
        }
      ]
    },
    {
      "cell_type": "code",
      "source": [
        "%%R\n",
        "options(width = 1000)\n",
        "cor_matrix <- cor(data[,1:3])\n",
        "cor_matrix"
      ],
      "metadata": {
        "colab": {
          "base_uri": "https://localhost:8080/",
          "height": 104
        },
        "id": "vSV-uE9SP-uk",
        "outputId": "9adfcc1b-ed2a-407a-f9a7-7746d89ae054"
      },
      "execution_count": 32,
      "outputs": [
        {
          "output_type": "display_data",
          "data": {
            "text/plain": [
              "                           Transport.weight..tons Speed..km.h Fuel.consumption..l.100.km\n",
              "Transport.weight..tons                 1.00000000  0.01851334                  0.7210005\n",
              "Speed..km.h                            0.01851334  1.00000000                 -0.1376828\n",
              "Fuel.consumption..l.100.km             0.72100051 -0.13768282                  1.0000000\n"
            ]
          },
          "metadata": {}
        }
      ]
    },
    {
      "cell_type": "code",
      "source": [
        "%%R\n",
        "x <- data$Transport.weight..tons\n",
        "y <- data$Fuel.consumption..l.100.km"
      ],
      "metadata": {
        "id": "GJIfnT9mdj25"
      },
      "execution_count": 40,
      "outputs": []
    },
    {
      "cell_type": "code",
      "source": [
        "%%R\n",
        "model <- lm(y ~ x, data = data)\n",
        "summary(model)"
      ],
      "metadata": {
        "colab": {
          "base_uri": "https://localhost:8080/",
          "height": 352
        },
        "id": "D6wtKNDidxMS",
        "outputId": "a40d7388-1ec3-4a9d-c8b3-5bbca4a79261"
      },
      "execution_count": 43,
      "outputs": [
        {
          "output_type": "display_data",
          "data": {
            "text/plain": [
              "\n",
              "Call:\n",
              "lm(formula = y ~ x, data = data)\n",
              "\n",
              "Residuals:\n",
              "    Min      1Q  Median      3Q     Max \n",
              "-4.5231 -1.1680  0.0282  1.1854  5.6093 \n",
              "\n",
              "Coefficients:\n",
              "            Estimate Std. Error t value Pr(>|t|)    \n",
              "(Intercept) 14.64584    0.85448   17.14   <2e-16 ***\n",
              "x            0.41257    0.02667   15.47   <2e-16 ***\n",
              "---\n",
              "Signif. codes:  0 ‘***’ 0.001 ‘**’ 0.01 ‘*’ 0.05 ‘.’ 0.1 ‘ ’ 1\n",
              "\n",
              "Residual standard error: 1.892 on 221 degrees of freedom\n",
              "Multiple R-squared:  0.5198,\tAdjusted R-squared:  0.5177 \n",
              "F-statistic: 239.3 on 1 and 221 DF,  p-value: < 2.2e-16\n",
              "\n"
            ]
          },
          "metadata": {}
        }
      ]
    },
    {
      "cell_type": "code",
      "source": [
        "%%R\n",
        "r_squared <- summary(model)$r.squared\n",
        "sprintf(\"Koefficient determination: %0.3f\", r_squared)"
      ],
      "metadata": {
        "id": "0uwn4sjVQBzk",
        "colab": {
          "base_uri": "https://localhost:8080/",
          "height": 54
        },
        "outputId": "5b11363f-600d-4b91-bf8f-b61707123427"
      },
      "execution_count": 46,
      "outputs": [
        {
          "output_type": "display_data",
          "data": {
            "text/plain": [
              "[1] \"Koefficient determination: 0.520\"\n"
            ]
          },
          "metadata": {}
        }
      ]
    },
    {
      "cell_type": "code",
      "source": [
        "%%R\n",
        "library(ggplot2)\n",
        "\n",
        "ggplot(data, aes(x = x, y = y)) + geom_point() + geom_smooth(method = \"lm\", se = FALSE)"
      ],
      "metadata": {
        "colab": {
          "base_uri": "https://localhost:8080/",
          "height": 551
        },
        "id": "NRTWOsJjvCV4",
        "outputId": "286f282b-4a11-4914-edec-6e4dc3a09a77"
      },
      "execution_count": 47,
      "outputs": [
        {
          "output_type": "stream",
          "name": "stderr",
          "text": [
            "WARNING:rpy2.rinterface_lib.callbacks:R[write to console]: `geom_smooth()` using formula = 'y ~ x'\n",
            "\n"
          ]
        },
        {
          "output_type": "display_data",
          "data": {
            "image/png": "[encoded data removed]"
          },
          "metadata": {}
        }
      ]
    },
    {
      "cell_type": "code",
      "source": [],
      "metadata": {
        "id": "ThVDjrOEujii"
      },
      "execution_count": null,
      "outputs": []
    }
  ]
}