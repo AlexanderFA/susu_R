{
  "nbformat": 4,
  "nbformat_minor": 0,
  "metadata": {
    "colab": {
      "provenance": []
    },
    "kernelspec": {
      "name": "python3",
      "display_name": "Python 3"
    },
    "language_info": {
      "name": "python"
    }
  },
  "cells": [
    {
      "cell_type": "code",
      "source": [
        "!pip uninstall rpy2 -y\n",
        "!pip install rpy2==3.0.0"
      ],
      "metadata": {
        "colab": {
          "base_uri": "https://localhost:8080/",
          "height": 679
        },
        "id": "4guyRnKjsYW0",
        "outputId": "74f88401-33d7-4e73-9c77-94f0cbbdfbf6"
      },
      "execution_count": null,
      "outputs": [
        {
          "output_type": "stream",
          "name": "stdout",
          "text": [
            "Found existing installation: rpy2 3.5.5\n",
            "Uninstalling rpy2-3.5.5:\n",
            "  Successfully uninstalled rpy2-3.5.5\n",
            "Looking in indexes: https://pypi.org/simple, https://us-python.pkg.dev/colab-wheels/public/simple/\n",
            "Collecting rpy2==3.0.0\n",
            "  Downloading rpy2-3.0.0.tar.gz (117 kB)\n",
            "\u001b[2K     \u001b[90m━━━━━━━━━━━━━━━━━━━━━━━━━━━━━━━━━━━━━━━\u001b[0m \u001b[32m117.0/117.0 KB\u001b[0m \u001b[31m9.3 MB/s\u001b[0m eta \u001b[36m0:00:00\u001b[0m\n",
            "\u001b[?25h  Preparing metadata (setup.py) ... \u001b[?25l\u001b[?25hdone\n",
            "Requirement already satisfied: pytest in /usr/local/lib/python3.9/dist-packages (from rpy2==3.0.0) (7.2.2)\n",
            "Requirement already satisfied: jinja2 in /usr/local/lib/python3.9/dist-packages (from rpy2==3.0.0) (3.1.2)\n",
            "Collecting simplegeneric\n",
            "  Downloading simplegeneric-0.8.1.zip (12 kB)\n",
            "  Preparing metadata (setup.py) ... \u001b[?25l\u001b[?25hdone\n",
            "Requirement already satisfied: cffi>=1.0.0 in /usr/local/lib/python3.9/dist-packages (from rpy2==3.0.0) (1.15.1)\n",
            "Requirement already satisfied: pycparser in /usr/local/lib/python3.9/dist-packages (from cffi>=1.0.0->rpy2==3.0.0) (2.21)\n",
            "Requirement already satisfied: MarkupSafe>=2.0 in /usr/local/lib/python3.9/dist-packages (from jinja2->rpy2==3.0.0) (2.1.2)\n",
            "Requirement already satisfied: pluggy<2.0,>=0.12 in /usr/local/lib/python3.9/dist-packages (from pytest->rpy2==3.0.0) (1.0.0)\n",
            "Requirement already satisfied: exceptiongroup>=1.0.0rc8 in /usr/local/lib/python3.9/dist-packages (from pytest->rpy2==3.0.0) (1.1.1)\n",
            "Requirement already satisfied: tomli>=1.0.0 in /usr/local/lib/python3.9/dist-packages (from pytest->rpy2==3.0.0) (2.0.1)\n",
            "Requirement already satisfied: attrs>=19.2.0 in /usr/local/lib/python3.9/dist-packages (from pytest->rpy2==3.0.0) (22.2.0)\n",
            "Requirement already satisfied: packaging in /usr/local/lib/python3.9/dist-packages (from pytest->rpy2==3.0.0) (23.0)\n",
            "Requirement already satisfied: iniconfig in /usr/local/lib/python3.9/dist-packages (from pytest->rpy2==3.0.0) (2.0.0)\n",
            "Building wheels for collected packages: rpy2, simplegeneric\n",
            "  Building wheel for rpy2 (setup.py) ... \u001b[?25l\u001b[?25hdone\n",
            "  Created wheel for rpy2: filename=rpy2-3.0.0-py3-none-any.whl size=106519 sha256=289dc717a8302b3d34846245dadae1033b0e1568c20d2d679967c12395634752\n",
            "  Stored in directory: /root/.cache/pip/wheels/cf/c3/f6/e528c1472dbc76917f525029a132cd7f61efc97b3d8ba7085f\n",
            "  Building wheel for simplegeneric (setup.py) ... \u001b[?25l\u001b[?25hdone\n",
            "  Created wheel for simplegeneric: filename=simplegeneric-0.8.1-py3-none-any.whl size=5077 sha256=dee990bc95e54fa5b0e99210585be18b1e067f0ea35d18096d00325c50c12c3c\n",
            "  Stored in directory: /root/.cache/pip/wheels/a7/bd/0d/d95b629ee4a7368830202858e45ac76cd837a42cafa50da81e\n",
            "Successfully built rpy2 simplegeneric\n",
            "Installing collected packages: simplegeneric, rpy2\n",
            "Successfully installed rpy2-3.0.0 simplegeneric-0.8.1\n"
          ]
        },
        {
          "output_type": "display_data",
          "data": {
            "application/vnd.colab-display-data+json": {
              "pip_warning": {
                "packages": [
                  "rpy2"
                ]
              }
            }
          },
          "metadata": {}
        }
      ]
    },
    {
      "cell_type": "code",
      "execution_count": 7,
      "metadata": {
        "id": "97mjy6AqmuW1",
        "colab": {
          "base_uri": "https://localhost:8080/"
        },
        "outputId": "339347e5-3520-4559-9c29-610ca990721d"
      },
      "outputs": [
        {
          "output_type": "stream",
          "name": "stdout",
          "text": [
            "Drive already mounted at /content/drive; to attempt to forcibly remount, call drive.mount(\"/content/drive\", force_remount=True).\n",
            "The rpy2.ipython extension is already loaded. To reload it, use:\n",
            "  %reload_ext rpy2.ipython\n"
          ]
        }
      ],
      "source": [
        "from google.colab import drive\n",
        "drive.mount('/content/drive')\n",
        "%load_ext rpy2.ipython\n"
      ]
    },
    {
      "cell_type": "code",
      "source": [
        "%%R\n",
        "data <- read.csv(\"/content/drive/My Drive/Iris.csv\")\n",
        "head(data)"
      ],
      "metadata": {
        "colab": {
          "base_uri": "https://localhost:8080/",
          "height": 146
        },
        "id": "iqgZndxXsDXN",
        "outputId": "837f3970-8454-4d70-8d61-3185c38103a2"
      },
      "execution_count": 11,
      "outputs": [
        {
          "output_type": "display_data",
          "data": {
            "text/plain": [
              "  Id SepalLengthCm SepalWidthCm PetalLengthCm PetalWidthCm     Species\n",
              "1  1           5.1          3.5           1.4          0.2 Iris-setosa\n",
              "2  2           4.9          3.0           1.4          0.2 Iris-setosa\n",
              "3  3           4.7          3.2           1.3          0.2 Iris-setosa\n",
              "4  4           4.6          3.1           1.5          0.2 Iris-setosa\n",
              "5  5           5.0          3.6           1.4          0.2 Iris-setosa\n",
              "6  6           5.4          3.9           1.7          0.4 Iris-setosa\n"
            ]
          },
          "metadata": {}
        }
      ]
    },
    {
      "cell_type": "code",
      "source": [],
      "metadata": {
        "id": "ZZ7Zb1K_sXJl"
      },
      "execution_count": null,
      "outputs": []
    }
  ]
}