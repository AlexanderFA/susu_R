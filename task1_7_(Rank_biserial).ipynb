{
 "nbformat": 4,
 "nbformat_minor": 0,
 "metadata": {
  "colab": {
   "provenance": []
  },
  "kernelspec": {
   "name": "ir",
   "display_name": "R"
  },
  "language_info": {
   "name": "R"
  },
  "gpuClass": "standard"
 },
 "cells": [
  {
   "cell_type": "code",
   "source": [
    "X <- c(1, 0, 1, 1, 0, 1, 0, 0, 1, 1, 1, 0, 1, 1, 0)\n",
    "Y <- c(1, 10, 6, 9, 15, 7, 8, 13, 4, 3, 5, 11, 12, 2, 14)\n",
    "n <- length(X)\n",
    "df = data.frame(X, Y)\n",
    "df  "
   ],
   "metadata": {
    "colab": {
     "base_uri": "https://localhost:8080/",
     "height": 579
    },
    "id": "FRb_L6-QeBde",
    "outputId": "c1968a2b-20b8-4107-c08b-44c6f7ea79c5",
    "pycharm": {
     "name": "#%%\n"
    }
   },
   "execution_count": 1,
   "outputs": [
    {
     "output_type": "display_data",
     "data": {
      "text/html": [
       "<table class=\"dataframe\">\n",
       "<caption>A data.frame: 15 × 2</caption>\n",
       "<thead>\n",
       "\t<tr><th scope=col>X</th><th scope=col>Y</th></tr>\n",
       "\t<tr><th scope=col>&lt;dbl&gt;</th><th scope=col>&lt;dbl&gt;</th></tr>\n",
       "</thead>\n",
       "<tbody>\n",
       "\t<tr><td>1</td><td> 1</td></tr>\n",
       "\t<tr><td>0</td><td>10</td></tr>\n",
       "\t<tr><td>1</td><td> 6</td></tr>\n",
       "\t<tr><td>1</td><td> 9</td></tr>\n",
       "\t<tr><td>0</td><td>15</td></tr>\n",
       "\t<tr><td>1</td><td> 7</td></tr>\n",
       "\t<tr><td>0</td><td> 8</td></tr>\n",
       "\t<tr><td>0</td><td>13</td></tr>\n",
       "\t<tr><td>1</td><td> 4</td></tr>\n",
       "\t<tr><td>1</td><td> 3</td></tr>\n",
       "\t<tr><td>1</td><td> 5</td></tr>\n",
       "\t<tr><td>0</td><td>11</td></tr>\n",
       "\t<tr><td>1</td><td>12</td></tr>\n",
       "\t<tr><td>1</td><td> 2</td></tr>\n",
       "\t<tr><td>0</td><td>14</td></tr>\n",
       "</tbody>\n",
       "</table>\n"
      ],
      "text/markdown": "\nA data.frame: 15 × 2\n\n| X &lt;dbl&gt; | Y &lt;dbl&gt; |\n|---|---|\n| 1 |  1 |\n| 0 | 10 |\n| 1 |  6 |\n| 1 |  9 |\n| 0 | 15 |\n| 1 |  7 |\n| 0 |  8 |\n| 0 | 13 |\n| 1 |  4 |\n| 1 |  3 |\n| 1 |  5 |\n| 0 | 11 |\n| 1 | 12 |\n| 1 |  2 |\n| 0 | 14 |\n\n",
      "text/latex": "A data.frame: 15 × 2\n\\begin{tabular}{ll}\n X & Y\\\\\n <dbl> & <dbl>\\\\\n\\hline\n\t 1 &  1\\\\\n\t 0 & 10\\\\\n\t 1 &  6\\\\\n\t 1 &  9\\\\\n\t 0 & 15\\\\\n\t 1 &  7\\\\\n\t 0 &  8\\\\\n\t 0 & 13\\\\\n\t 1 &  4\\\\\n\t 1 &  3\\\\\n\t 1 &  5\\\\\n\t 0 & 11\\\\\n\t 1 & 12\\\\\n\t 1 &  2\\\\\n\t 0 & 14\\\\\n\\end{tabular}\n",
      "text/plain": [
       "   X Y \n",
       "1  1  1\n",
       "2  0 10\n",
       "3  1  6\n",
       "4  1  9\n",
       "5  0 15\n",
       "6  1  7\n",
       "7  0  8\n",
       "8  0 13\n",
       "9  1  4\n",
       "10 1  3\n",
       "11 1  5\n",
       "12 0 11\n",
       "13 1 12\n",
       "14 1  2\n",
       "15 0 14"
      ]
     },
     "metadata": {}
    }
   ]
  },
  {
   "cell_type": "code",
   "source": [
    "nY = sum(df$X>0)\n",
    "nX = n - nY\n",
    "nY\n",
    "nX"
   ],
   "metadata": {
    "colab": {
     "base_uri": "https://localhost:8080/",
     "height": 51
    },
    "id": "aeogU3m-Y6ml",
    "outputId": "f0e16cd4-f357-42d4-cd71-ae5d3fbb2da0",
    "pycharm": {
     "name": "#%%\n"
    }
   },
   "execution_count": 2,
   "outputs": [
    {
     "output_type": "display_data",
     "data": {
      "text/html": [
       "9"
      ],
      "text/markdown": "9",
      "text/latex": "9",
      "text/plain": [
       "[1] 9"
      ]
     },
     "metadata": {}
    },
    {
     "output_type": "display_data",
     "data": {
      "text/html": [
       "6"
      ],
      "text/markdown": "6",
      "text/latex": "6",
      "text/plain": [
       "[1] 6"
      ]
     },
     "metadata": {}
    }
   ]
  },
  {
   "cell_type": "code",
   "source": [
    "IntAvgY <- sum(df[df$X > 0,][2]) / nY\n",
    "IntAvgX <- sum(df[df$X == 0,][2]) / nX\n",
    "IntAvgY\n",
    "IntAvgX \n",
    "# mean(df[df$X > 0,][2])"
   ],
   "metadata": {
    "colab": {
     "base_uri": "https://localhost:8080/",
     "height": 51
    },
    "id": "1guwYKGnZtto",
    "outputId": "1e20da73-078e-4d27-df18-3f8968d50bf7",
    "pycharm": {
     "name": "#%%\n"
    }
   },
   "execution_count": 7,
   "outputs": [
    {
     "output_type": "display_data",
     "data": {
      "text/html": [
       "5.44444444444444"
      ],
      "text/markdown": "5.44444444444444",
      "text/latex": "5.44444444444444",
      "text/plain": [
       "[1] 5.444444"
      ]
     },
     "metadata": {}
    },
    {
     "output_type": "display_data",
     "data": {
      "text/html": [
       "11.8333333333333"
      ],
      "text/markdown": "11.8333333333333",
      "text/latex": "11.8333333333333",
      "text/plain": [
       "[1] 11.83333"
      ]
     },
     "metadata": {}
    }
   ]
  },
  {
   "cell_type": "code",
   "source": [
    "Rrb <- 2 * (IntAvgY - IntAvgX) / n\n",
    "Rrb"
   ],
   "metadata": {
    "colab": {
     "base_uri": "https://localhost:8080/",
     "height": 34
    },
    "id": "Z1e6nn5eh9X7",
    "outputId": "8038add8-dfea-4149-b92d-163d75cac3f9",
    "pycharm": {
     "name": "#%%\n"
    }
   },
   "execution_count": 8,
   "outputs": [
    {
     "output_type": "display_data",
     "data": {
      "text/html": [
       "-0.851851851851852"
      ],
      "text/markdown": "-0.851851851851852",
      "text/latex": "-0.851851851851852",
      "text/plain": [
       "[1] -0.8518519"
      ]
     },
     "metadata": {}
    }
   ]
  },
  {
   "cell_type": "code",
   "source": [
    "Tphi = abs(Rrb) * sqrt((n - 2) / (1 - Rrb * Rrb))\n",
    "Tphi"
   ],
   "metadata": {
    "colab": {
     "base_uri": "https://localhost:8080/",
     "height": 34
    },
    "id": "df7Lf42AiKJs",
    "outputId": "34054e63-0bdb-4554-8204-35de68e162b7",
    "pycharm": {
     "name": "#%%\n"
    }
   },
   "execution_count": 11,
   "outputs": [
    {
     "output_type": "display_data",
     "data": {
      "text/html": [
       "5.8638724406317"
      ],
      "text/markdown": "5.8638724406317",
      "text/latex": "5.8638724406317",
      "text/plain": [
       "[1] 5.863872"
      ]
     },
     "metadata": {}
    }
   ]
  },
  {
   "cell_type": "code",
   "source": [
    "Tkrit = 2.16"
   ],
   "metadata": {
    "id": "y9v79DtZjSMo",
    "pycharm": {
     "name": "#%%\n"
    }
   },
   "execution_count": 12,
   "outputs": []
  },
  {
   "cell_type": "code",
   "source": [
    "if (Tphi < Tkrit) {\n",
    "  cat(\"принимается H0 - не обнаружили никакой связи\\n\")\n",
    "} else {\n",
    "  cat(\"принимается H1 - связь есть\\n\")\n",
    "}"
   ],
   "metadata": {
    "colab": {
     "base_uri": "https://localhost:8080/"
    },
    "id": "GwYDG-PicOz2",
    "outputId": "e721ad9c-0a78-4580-8a5c-6de92fb5480c",
    "pycharm": {
     "name": "#%%\n"
    }
   },
   "execution_count": 13,
   "outputs": [
    {
     "output_type": "stream",
     "name": "stdout",
     "text": [
      "принимается H1 - связь есть\n"
     ]
    }
   ]
  },
  {
   "cell_type": "code",
   "source": [],
   "metadata": {
    "id": "CtS52cFcfbF1",
    "pycharm": {
     "name": "#%%\n"
    }
   },
   "execution_count": null,
   "outputs": []
  }
 ]
}