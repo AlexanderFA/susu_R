{
 "nbformat": 4,
 "nbformat_minor": 0,
 "metadata": {
  "colab": {
   "provenance": []
  },
  "kernelspec": {
   "name": "ir",
   "display_name": "R"
  },
  "language_info": {
   "name": "R"
  },
  "gpuClass": "standard"
 },
 "cells": [
  {
   "cell_type": "code",
   "source": [
    "install.packages(\"moments\")\n",
    "library(moments)"
   ],
   "metadata": {
    "colab": {
     "base_uri": "https://localhost:8080/"
    },
    "id": "FRb_L6-QeBde",
    "outputId": "dc30214d-7fb0-475e-9f02-675a172fdc40",
    "pycharm": {
     "name": "#%%\n"
    }
   },
   "execution_count": 2,
   "outputs": [
    {
     "output_type": "stream",
     "name": "stderr",
     "text": [
      "Installing package into ‘/usr/local/lib/R/site-library’\n",
      "(as ‘lib’ is unspecified)\n",
      "\n"
     ]
    }
   ]
  },
  {
   "cell_type": "code",
   "source": [
    "n <- 1000\n",
    "ri <- sample(10:15, n, replace = TRUE) # n случайных чисел из диапазона от 10 до 15\n",
    "r01 <- runif(n, min = 0, max = 1) # n случайных чисел R(0,1)- равномерно распределённых на интервале (0,1)\n",
    "a <- 4\n",
    "b <- 7\n",
    "rab <- runif(n, min = a, max = b) # генерация n случайных чисел R(a,b)- равномерно распределённых на интервале (a,b)\n",
    "rn <- rnorm(n, mean = 10, sd = 2) # n нормально распределённых с МО=10 и СКО=2"
   ],
   "metadata": {
    "id": "aeogU3m-Y6ml",
    "pycharm": {
     "name": "#%%\n"
    }
   },
   "execution_count": 3,
   "outputs": []
  },
  {
   "cell_type": "code",
   "source": [
    "A <- skewness(rn) #  асимметрия\n",
    "E <- kurtosis(rn) #  эксцесс\n",
    "A\n",
    "E"
   ],
   "metadata": {
    "colab": {
     "base_uri": "https://localhost:8080/",
     "height": 71
    },
    "id": "1guwYKGnZtto",
    "outputId": "b32a6e53-ed99-4699-fe9d-a139398357ae",
    "pycharm": {
     "name": "#%%\n"
    }
   },
   "execution_count": 4,
   "outputs": [
    {
     "output_type": "display_data",
     "data": {
      "text/html": [
       "-0.0569942210434136"
      ],
      "text/markdown": "-0.0569942210434136",
      "text/latex": "-0.0569942210434136",
      "text/plain": [
       "[1] -0.05699422"
      ]
     },
     "metadata": {}
    },
    {
     "output_type": "display_data",
     "data": {
      "text/html": [
       "3.16832378472639"
      ],
      "text/markdown": "3.16832378472639",
      "text/latex": "3.16832378472639",
      "text/plain": [
       "[1] 3.168324"
      ]
     },
     "metadata": {}
    }
   ]
  },
  {
   "cell_type": "code",
   "source": [
    "# проверка на нормальность\n",
    "# H0: распределение является нормальным\n",
    "# H1: распределение не является нормальным\n",
    "alfa <- 0.05  #  уровень значимости\n",
    "\n",
    "# проверка на нормальность выборки ri"
   ],
   "metadata": {
    "id": "Z1e6nn5eh9X7",
    "pycharm": {
     "name": "#%%\n"
    }
   },
   "execution_count": 24,
   "outputs": []
  },
  {
   "cell_type": "code",
   "source": [
    "cat(\"первые десять элементов выборки:\", head(ri, 10), \"\\n\")\n",
    "\n",
    "# Для проверки нормальности распределения методом хи-квадрат\n",
    "# можно использовать функцию chisq.test().\n",
    "# Для этого необходимо сначала разбить непрерывную переменную на интервалы (bin)\n",
    "# и подсчитать число наблюдений в каждом интервале. Затем можно применить \n",
    "# функцию chisq.test() для оценки того, насколько хорошо данные соответствуют \n",
    "# нормальному распределению.\n",
    "normality_chi_test <- function(data, n_bins = 5) {\n",
    "  # Разбиение на интервалы\n",
    "  bins <- seq(min(data), max(data), length.out = n_bins + 1)\n",
    "  \n",
    "  # Подсчет числа наблюдений в каждом интервале\n",
    "  observed <- cut(data, bins, right = FALSE)\n",
    "  observed_counts <- table(observed)\n",
    "  \n",
    "  # Вычисление ожидаемых частот для нормального распределения\n",
    "  expected_counts <- length(data) * diff(pnorm(bins, mean = mean(data), sd = sd(data)))\n",
    "  \n",
    "  # Выполнение теста хи-квадрат\n",
    "  result <- chisq.test(observed_counts, p = expected_counts, rescale.p = TRUE)\n",
    "  \n",
    "  return(result)\n",
    "}\n",
    "\n",
    "chi_result <- normality_chi_test(ri) # тест Хи-квадрат\n",
    "shapiro_result <- shapiro.test(ri) # тест Шапиро-Уилка\n",
    "\n",
    "cat(\"ХИ-квадрат:\\n\", sprintf(\"stat=%.2f\", chi_result$statistic), sprintf(\"p=%.5f\", chi_result$p.value), \"\\n\")\n",
    "cat(\"Шапиро:\\n\", sprintf(\"stat=%.2f\", shapiro_result$statistic), sprintf(\"p=%.5f\", shapiro_result$p.value), \"\\n\")"
   ],
   "metadata": {
    "colab": {
     "base_uri": "https://localhost:8080/"
    },
    "id": "df7Lf42AiKJs",
    "outputId": "e6720483-6da7-4ae8-b658-0600fef07663",
    "pycharm": {
     "name": "#%%\n"
    }
   },
   "execution_count": 41,
   "outputs": [
    {
     "output_type": "stream",
     "name": "stdout",
     "text": [
      "первые десять элементов выборки: 12 10 15 11 13 12 15 14 12 10 \n",
      "ХИ-квадрат:\n",
      " stat=79.07 p=0.00000 \n",
      "Шапиро:\n",
      " stat=0.90 p=0.00000 \n"
     ]
    }
   ]
  },
  {
   "cell_type": "code",
   "source": [
    "# p-значение в обоих тестах значительно меньше alfa\n",
    "# гипотеза H0 отвергается \n",
    "#  распределение не является нормальным"
   ],
   "metadata": {
    "id": "y9v79DtZjSMo",
    "pycharm": {
     "name": "#%%\n"
    }
   },
   "execution_count": null,
   "outputs": []
  },
  {
   "cell_type": "code",
   "source": [
    "# проверка на нормальность выборки rn -  N(10,2)\n",
    "cat(\"первые десять элементов выборки:\", head(rn, 10), \"\\n\")\n",
    "\n",
    "chi_result <- normality_chi_test(rn) # тест Хи-квадрат\n",
    "shapiro_result <- shapiro.test(rn) # тест Шапиро-Уилка\n",
    "\n",
    "cat(\"ХИ-квадрат:\\n\", sprintf(\"stat=%.2f\", chi_result$statistic), sprintf(\"p=%.5f\", chi_result$p.value), \"\\n\")\n",
    "cat(\"Шапиро:\\n\", sprintf(\"stat=%.2f\", shapiro_result$statistic), sprintf(\"p=%.5f\", shapiro_result$p.value), \"\\n\")"
   ],
   "metadata": {
    "colab": {
     "base_uri": "https://localhost:8080/"
    },
    "id": "GwYDG-PicOz2",
    "outputId": "70a7dcae-c25e-4122-9bf0-5862749e1cea",
    "pycharm": {
     "name": "#%%\n"
    }
   },
   "execution_count": 42,
   "outputs": [
    {
     "output_type": "stream",
     "name": "stdout",
     "text": [
      "первые десять элементов выборки: 7.879294 8.129189 12.23619 8.565935 12.9047 9.26286 9.077848 9.232775 9.558159 10.19857 \n",
      "ХИ-квадрат:\n",
      " stat=0.54 p=0.96923 \n",
      "Шапиро:\n",
      " stat=1.00 p=0.69794 \n"
     ]
    }
   ]
  },
  {
   "cell_type": "code",
   "source": [
    "# p-значение в обоих тестах значительно больше alfa\n",
    "# гипотеза H0 принимается \n",
    "# распределение является нормальным"
   ],
   "metadata": {
    "id": "CtS52cFcfbF1",
    "pycharm": {
     "name": "#%%\n"
    }
   },
   "execution_count": null,
   "outputs": []
  },
  {
   "cell_type": "code",
   "source": [
    "# коэффициент линейной корреляции Пирсона ( данные распределены нормально)\n",
    "# rn - N(10,2)\n",
    "X <- rn\n",
    "Y <- sin(X)\n",
    "corT <- cor.test(X, Y, method = \"pearson\")\n",
    "sprintf(\"statistic=%.10f\", corT$statistic)\n",
    "\n",
    "# result$estimate # оценка коэффициента корреляции\n",
    "# result$p.value # p-значение\n",
    "# result$conf.int # доверительный интервал\n",
    "# result$statistic # значение статистики теста\n",
    "\n",
    "if (corT$estimate < alfa) { \n",
    "  cat(\"H0 отвергается, принимается H1 - коэффициент значим (связь есть)\\n\")\n",
    "} else {\n",
    "  cat(\"H0 принимается - коэффициент незначим (связи нет)\\n\")\n",
    "}"
   ],
   "metadata": {
    "colab": {
     "base_uri": "https://localhost:8080/",
     "height": 71
    },
    "id": "k7rAMQL9mDVF",
    "outputId": "3d5999a4-b1a3-42fc-bc01-e22843bd7b79",
    "pycharm": {
     "name": "#%%\n"
    }
   },
   "execution_count": 33,
   "outputs": [
    {
     "output_type": "display_data",
     "data": {
      "text/html": [
       "'statistic=-13.3031641870'"
      ],
      "text/markdown": "'statistic=-13.3031641870'",
      "text/latex": "'statistic=-13.3031641870'",
      "text/plain": [
       "[1] \"statistic=-13.3031641870\""
      ]
     },
     "metadata": {}
    },
    {
     "output_type": "stream",
     "name": "stdout",
     "text": [
      "H0 отвергается, принимается H1 - коэффициент значим (связь есть)\n"
     ]
    }
   ]
  },
  {
   "cell_type": "code",
   "source": [
    "# коэффициент корреляции Спирмена(данные ранговые или метрические, но не распределены нормально)\n",
    "# r01 - R(0,1)\n",
    "# rab - R(4,7)\n",
    "# функция вернет результаты теста корреляции Спирмена между двумя векторами rab и r01.\n",
    "# estimate: оценка коэффициента корреляции между векторами rab и r01.\n",
    "# p-value: p-значение теста, указывающее на статистическую значимость корреляции.\n",
    "# Обычно используется уровень значимости 0.05.\n",
    "# conf.int: доверительный интервал оценки корреляции.\n",
    "# statistic: значение статистики теста.\n",
    "\n",
    "spearman_result <- cor.test(rab, r01, method = \"spearman\")\n",
    "cat(\"коэффициент корреляции Спирмена равен\", sprintf(\"%.5f\", spearman_result$estimate), \"\\n\")\n",
    "cat(\"cтатистичесrкая значимость корреляции равна\", sprintf(\"%.5f\", spearman_result$p.value), \"\\n\")\n",
    "if (spearman_result$p.value < alfa) {\n",
    "  cat(\"H0 отвергается, принимается H1 - коэффициент значим (связь есть)\\n\")\n",
    "} else {\n",
    "  cat(\"H0 принимается - коэффициент незначим (связи нет)\\n\")\n",
    "}"
   ],
   "metadata": {
    "colab": {
     "base_uri": "https://localhost:8080/"
    },
    "id": "JnYY_131mKM2",
    "outputId": "4e857351-b7cd-43f7-a387-5995166240dc",
    "pycharm": {
     "name": "#%%\n"
    }
   },
   "execution_count": 35,
   "outputs": [
    {
     "output_type": "stream",
     "name": "stdout",
     "text": [
      "коэффициент корреляции Спирмена равен -0.00107 \n",
      "cтатистичесrкая значимость корреляции равна 0.97291 \n",
      "H0 принимается - коэффициент незначим (связи нет)\n"
     ]
    }
   ]
  },
  {
   "cell_type": "code",
   "source": [
    "# коэффициент корреляции Кендалла (данные ранговые или метрические, но не распределены нормально)\n",
    "# r01 - R(0,1)\n",
    "# rab - R(4,7)\n",
    "kendall_result <- cor.test(rab, r01, method = \"kendall\")\n",
    "cat(\"коэффициент корреляции Спирмена равен\", sprintf(\"%.5f\", kendall_result$estimate), \"\\n\")\n",
    "cat(\"cтатистичесrкая значимость корреляции равна\", sprintf(\"%.5f\", kendall_result$p.value), \"\\n\")\n",
    "if (kendall_result$p.value < alfa) {\n",
    "  cat(\"H0 отвергается, принимается H1 - коэффициент значим (связь есть)\\n\")\n",
    "} else {\n",
    "  cat(\"H0 принимается - коэффициент незначим (связи нет)\\n\")\n",
    "}"
   ],
   "metadata": {
    "colab": {
     "base_uri": "https://localhost:8080/"
    },
    "id": "ByKcY_2Am_ok",
    "outputId": "efc24d8a-6d4b-461d-caa1-cec26c7e6526",
    "pycharm": {
     "name": "#%%\n"
    }
   },
   "execution_count": 37,
   "outputs": [
    {
     "output_type": "stream",
     "name": "stdout",
     "text": [
      "коэффициент корреляции Спирмена равен -0.00099 \n",
      "cтатистичесrкая значимость корреляции равна 0.96250 \n",
      "H0 принимается - коэффициент незначим (связи нет)\n"
     ]
    }
   ]
  },
  {
   "cell_type": "code",
   "source": [
    "# построение гистограммы\n",
    "#rn - N(10,2) - n значений\n",
    "#rab - R(4,7) - n значений\n",
    "#r01 - R(0,1) - n  значений\n",
    "hist(rn, breaks = 7) # гистограмма с разбиением на 7 интервалов (по умолчанию 10 интервалов)"
   ],
   "metadata": {
    "colab": {
     "base_uri": "https://localhost:8080/",
     "height": 458
    },
    "id": "QOzIVVi4n647",
    "outputId": "9ada5d66-5d01-4352-a61e-156454021446",
    "pycharm": {
     "name": "#%%\n"
    }
   },
   "execution_count": 38,
   "outputs": [
    {
     "output_type": "display_data",
     "data": {
      "text/plain": [
       "Plot with title “Histogram of rn”"
      ],
      "image/png": "[encoded data removed]"
     },
     "metadata": {
      "image/png": {
       "width": 420,
       "height": 420
      }
     }
    }
   ]
  },
  {
   "cell_type": "code",
   "source": [
    "# диаграмма рассеяния\n",
    "# import matplotlib.pyplot as plt\n",
    "# Создаем случайные векторы данных\n",
    "# rn <- rnorm(50, mean=10, sd=2)\n",
    "# rab <- runif(50, min=4, max=7)\n",
    "# r01 <- rbinom(50, 1, 0.5)\n",
    "\n",
    "# Создаем график\n",
    "plot(x = rn, y = rn + r01, xlab = \"rn\", ylab = \"rab\", main = \"Точечный график\")\n",
    "\n",
    "# Добавляем линию регрессии\n",
    "# abline(lm(rn ~ rab), col=\"red\")"
   ],
   "metadata": {
    "colab": {
     "base_uri": "https://localhost:8080/",
     "height": 458
    },
    "id": "YJHKTco2oJ5c",
    "outputId": "763cbeaf-42ce-46f3-ebaa-28e82deefe4b",
    "pycharm": {
     "name": "#%%\n"
    }
   },
   "execution_count": 39,
   "outputs": [
    {
     "output_type": "display_data",
     "data": {
      "text/plain": [
       "Plot with title “Точечный график”"
      ],
      "image/png": "[encoded data removed]"
     },
     "metadata": {
      "image/png": {
       "width": 420,
       "height": 420
      }
     }
    }
   ]
  },
  {
   "cell_type": "code",
   "source": [],
   "metadata": {
    "id": "8Ax__CSDomOn",
    "pycharm": {
     "name": "#%%\n"
    }
   },
   "execution_count": null,
   "outputs": []
  }
 ]
}