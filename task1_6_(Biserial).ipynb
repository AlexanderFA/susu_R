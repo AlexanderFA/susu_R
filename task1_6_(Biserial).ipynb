{
  "nbformat": 4,
  "nbformat_minor": 0,
  "metadata": {
    "colab": {
      "provenance": []
    },
    "kernelspec": {
      "name": "ir",
      "display_name": "R"
    },
    "language_info": {
      "name": "R"
    },
    "gpuClass": "standard"
  },
  "cells": [
    {
      "cell_type": "code",
      "source": [
        "X <- c(1, 0, 1, 1, 0, 1, 0, 0, 1, 1, 1, 0, 1, 1, 0)\n",
        "Y <- c(102, 110, 86, 90, 120, 78, 95, 103, 105, 93, 123, 89, 109, 100, 105)\n",
        "n <- length(X)\n",
        "df = data.frame(X, Y)\n",
        "df"
      ],
      "metadata": {
        "colab": {
          "base_uri": "https://localhost:8080/",
          "height": 579
        },
        "id": "FRb_L6-QeBde",
        "outputId": "eaea5338-b45d-4855-b949-823fa94c3687"
      },
      "execution_count": 4,
      "outputs": [
        {
          "output_type": "display_data",
          "data": {
            "text/html": [
              "<table class=\"dataframe\">\n",
              "<caption>A data.frame: 15 × 2</caption>\n",
              "<thead>\n",
              "\t<tr><th scope=col>X</th><th scope=col>Y</th></tr>\n",
              "\t<tr><th scope=col>&lt;dbl&gt;</th><th scope=col>&lt;dbl&gt;</th></tr>\n",
              "</thead>\n",
              "<tbody>\n",
              "\t<tr><td>1</td><td>102</td></tr>\n",
              "\t<tr><td>0</td><td>110</td></tr>\n",
              "\t<tr><td>1</td><td> 86</td></tr>\n",
              "\t<tr><td>1</td><td> 90</td></tr>\n",
              "\t<tr><td>0</td><td>120</td></tr>\n",
              "\t<tr><td>1</td><td> 78</td></tr>\n",
              "\t<tr><td>0</td><td> 95</td></tr>\n",
              "\t<tr><td>0</td><td>103</td></tr>\n",
              "\t<tr><td>1</td><td>105</td></tr>\n",
              "\t<tr><td>1</td><td> 93</td></tr>\n",
              "\t<tr><td>1</td><td>123</td></tr>\n",
              "\t<tr><td>0</td><td> 89</td></tr>\n",
              "\t<tr><td>1</td><td>109</td></tr>\n",
              "\t<tr><td>1</td><td>100</td></tr>\n",
              "\t<tr><td>0</td><td>105</td></tr>\n",
              "</tbody>\n",
              "</table>\n"
            ],
            "text/markdown": "\nA data.frame: 15 × 2\n\n| X &lt;dbl&gt; | Y &lt;dbl&gt; |\n|---|---|\n| 1 | 102 |\n| 0 | 110 |\n| 1 |  86 |\n| 1 |  90 |\n| 0 | 120 |\n| 1 |  78 |\n| 0 |  95 |\n| 0 | 103 |\n| 1 | 105 |\n| 1 |  93 |\n| 1 | 123 |\n| 0 |  89 |\n| 1 | 109 |\n| 1 | 100 |\n| 0 | 105 |\n\n",
            "text/latex": "A data.frame: 15 × 2\n\\begin{tabular}{ll}\n X & Y\\\\\n <dbl> & <dbl>\\\\\n\\hline\n\t 1 & 102\\\\\n\t 0 & 110\\\\\n\t 1 &  86\\\\\n\t 1 &  90\\\\\n\t 0 & 120\\\\\n\t 1 &  78\\\\\n\t 0 &  95\\\\\n\t 0 & 103\\\\\n\t 1 & 105\\\\\n\t 1 &  93\\\\\n\t 1 & 123\\\\\n\t 0 &  89\\\\\n\t 1 & 109\\\\\n\t 1 & 100\\\\\n\t 0 & 105\\\\\n\\end{tabular}\n",
            "text/plain": [
              "   X Y  \n",
              "1  1 102\n",
              "2  0 110\n",
              "3  1  86\n",
              "4  1  90\n",
              "5  0 120\n",
              "6  1  78\n",
              "7  0  95\n",
              "8  0 103\n",
              "9  1 105\n",
              "10 1  93\n",
              "11 1 123\n",
              "12 0  89\n",
              "13 1 109\n",
              "14 1 100\n",
              "15 0 105"
            ]
          },
          "metadata": {}
        }
      ]
    },
    {
      "cell_type": "code",
      "source": [
        "nY = sum(df$X>0)\n",
        "nX = n - nY\n",
        "nY\n",
        "nX"
      ],
      "metadata": {
        "colab": {
          "base_uri": "https://localhost:8080/",
          "height": 51
        },
        "id": "aeogU3m-Y6ml",
        "outputId": "560eec99-af4a-4439-f7fd-92176fd4f711"
      },
      "execution_count": 13,
      "outputs": [
        {
          "output_type": "display_data",
          "data": {
            "text/html": [
              "9"
            ],
            "text/markdown": "9",
            "text/latex": "9",
            "text/plain": [
              "[1] 9"
            ]
          },
          "metadata": {}
        },
        {
          "output_type": "display_data",
          "data": {
            "text/html": [
              "6"
            ],
            "text/markdown": "6",
            "text/latex": "6",
            "text/plain": [
              "[1] 6"
            ]
          },
          "metadata": {}
        }
      ]
    },
    {
      "cell_type": "code",
      "source": [
        "IntAvgY = sum(df[df$X > 0,][2]) / nY\n",
        "IntAvgX = sum(df[df$X == 0,][2]) / nX\n",
        "IntAvgY\n",
        "IntAvgX \n",
        "# mean(df[df$X > 0,][2])"
      ],
      "metadata": {
        "colab": {
          "base_uri": "https://localhost:8080/",
          "height": 51
        },
        "id": "1guwYKGnZtto",
        "outputId": "e97fe8ec-d947-46e5-a07f-6d9bb91270ba"
      },
      "execution_count": 35,
      "outputs": [
        {
          "output_type": "display_data",
          "data": {
            "text/html": [
              "98.4444444444444"
            ],
            "text/markdown": "98.4444444444444",
            "text/latex": "98.4444444444444",
            "text/plain": [
              "[1] 98.44444"
            ]
          },
          "metadata": {}
        },
        {
          "output_type": "display_data",
          "data": {
            "text/html": [
              "103.666666666667"
            ],
            "text/markdown": "103.666666666667",
            "text/latex": "103.666666666667",
            "text/plain": [
              "[1] 103.6667"
            ]
          },
          "metadata": {}
        }
      ]
    },
    {
      "cell_type": "code",
      "source": [
        "yt = sd(df$Y)\n",
        "yt\n",
        "\n",
        "R = ((IntAvgY - IntAvgX) / yt) * (sqrt(nX * nY / (n * (n - 1))))\n",
        "R\n",
        "\n",
        "# Std = sqrt()"
      ],
      "metadata": {
        "colab": {
          "base_uri": "https://localhost:8080/",
          "height": 51
        },
        "id": "6mJjZMnMbOfY",
        "outputId": "4f295445-c21e-416f-a77e-4654d19372ac"
      },
      "execution_count": 39,
      "outputs": [
        {
          "output_type": "display_data",
          "data": {
            "text/html": [
              "12.374320568169"
            ],
            "text/markdown": "12.374320568169",
            "text/latex": "12.374320568169",
            "text/plain": [
              "[1] 12.37432"
            ]
          },
          "metadata": {}
        },
        {
          "output_type": "display_data",
          "data": {
            "text/html": [
              "-0.214003668610405"
            ],
            "text/markdown": "-0.214003668610405",
            "text/latex": "-0.214003668610405",
            "text/plain": [
              "[1] -0.2140037"
            ]
          },
          "metadata": {}
        }
      ]
    },
    {
      "cell_type": "code",
      "source": [
        "Tkrit = 2.16\n",
        "Tphi = abs(R) * sqrt((n - 2) / (1 - (R * R)))\n",
        "Tphi"
      ],
      "metadata": {
        "colab": {
          "base_uri": "https://localhost:8080/",
          "height": 34
        },
        "id": "Ux-cXqXscxbA",
        "outputId": "82ab2ae1-47d1-4fa9-b868-175c676ddd84"
      },
      "execution_count": 40,
      "outputs": [
        {
          "output_type": "display_data",
          "data": {
            "text/html": [
              "0.789900948829992"
            ],
            "text/markdown": "0.789900948829992",
            "text/latex": "0.789900948829992",
            "text/plain": [
              "[1] 0.7899009"
            ]
          },
          "metadata": {}
        }
      ]
    },
    {
      "cell_type": "code",
      "source": [
        "if (Tphi < Tkrit) {\n",
        "  cat(\"принимается H0 - не обнаружили никакой связи\\n\")\n",
        "} else {\n",
        "  cat(\"принимается H1 - связь есть\\n\")\n",
        "}"
      ],
      "metadata": {
        "colab": {
          "base_uri": "https://localhost:8080/"
        },
        "id": "GwYDG-PicOz2",
        "outputId": "fb718c1e-9673-434b-b47d-0880c1a49031"
      },
      "execution_count": 41,
      "outputs": [
        {
          "output_type": "stream",
          "name": "stdout",
          "text": [
            "принимается H0 - не обнаружили никакой связи\n"
          ]
        }
      ]
    },
    {
      "cell_type": "code",
      "source": [],
      "metadata": {
        "id": "CtS52cFcfbF1"
      },
      "execution_count": null,
      "outputs": []
    }
  ]
}