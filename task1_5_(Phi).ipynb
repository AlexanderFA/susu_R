{
  "nbformat": 4,
  "nbformat_minor": 0,
  "metadata": {
    "colab": {
      "provenance": []
    },
    "kernelspec": {
      "name": "ir",
      "display_name": "R"
    },
    "language_info": {
      "name": "R"
    },
    "gpuClass": "standard"
  },
  "cells": [
    {
      "cell_type": "code",
      "metadata": {
        "id": "H8dxUFcROZSi",
        "colab": {
          "base_uri": "https://localhost:8080/"
        },
        "outputId": "389e5fcc-894c-46a6-add1-27ea904516a0"
      },
      "source": [
        "X <- c(0, 1, 0, 0, 1, 1, 0, 1, 0, 0, 0, 1)\n",
        "Y <- c(0, 1, 1, 0, 1, 0, 0, 1, 0, 1, 0, 1)\n",
        "n <- length(X)\n",
        "print(n)"
      ],
      "execution_count": 2,
      "outputs": [
        {
          "output_type": "stream",
          "name": "stdout",
          "text": [
            "[1] 12\n"
          ]
        }
      ]
    },
    {
      "cell_type": "code",
      "source": [
        "data <- cbind(X, Y)\n",
        "data"
      ],
      "metadata": {
        "colab": {
          "base_uri": "https://localhost:8080/",
          "height": 506
        },
        "id": "aeogU3m-Y6ml",
        "outputId": "d34c42b3-6035-4095-cad4-ef49b1f9e5d5"
      },
      "execution_count": 3,
      "outputs": [
        {
          "output_type": "display_data",
          "data": {
            "text/html": [
              "<table class=\"dataframe\">\n",
              "<caption>A matrix: 12 × 2 of type dbl</caption>\n",
              "<thead>\n",
              "\t<tr><th scope=col>X</th><th scope=col>Y</th></tr>\n",
              "</thead>\n",
              "<tbody>\n",
              "\t<tr><td>0</td><td>0</td></tr>\n",
              "\t<tr><td>1</td><td>1</td></tr>\n",
              "\t<tr><td>0</td><td>1</td></tr>\n",
              "\t<tr><td>0</td><td>0</td></tr>\n",
              "\t<tr><td>1</td><td>1</td></tr>\n",
              "\t<tr><td>1</td><td>0</td></tr>\n",
              "\t<tr><td>0</td><td>0</td></tr>\n",
              "\t<tr><td>1</td><td>1</td></tr>\n",
              "\t<tr><td>0</td><td>0</td></tr>\n",
              "\t<tr><td>0</td><td>1</td></tr>\n",
              "\t<tr><td>0</td><td>0</td></tr>\n",
              "\t<tr><td>1</td><td>1</td></tr>\n",
              "</tbody>\n",
              "</table>\n"
            ],
            "text/markdown": "\nA matrix: 12 × 2 of type dbl\n\n| X | Y |\n|---|---|\n| 0 | 0 |\n| 1 | 1 |\n| 0 | 1 |\n| 0 | 0 |\n| 1 | 1 |\n| 1 | 0 |\n| 0 | 0 |\n| 1 | 1 |\n| 0 | 0 |\n| 0 | 1 |\n| 0 | 0 |\n| 1 | 1 |\n\n",
            "text/latex": "A matrix: 12 × 2 of type dbl\n\\begin{tabular}{ll}\n X & Y\\\\\n\\hline\n\t 0 & 0\\\\\n\t 1 & 1\\\\\n\t 0 & 1\\\\\n\t 0 & 0\\\\\n\t 1 & 1\\\\\n\t 1 & 0\\\\\n\t 0 & 0\\\\\n\t 1 & 1\\\\\n\t 0 & 0\\\\\n\t 0 & 1\\\\\n\t 0 & 0\\\\\n\t 1 & 1\\\\\n\\end{tabular}\n",
            "text/plain": [
              "      X Y\n",
              " [1,] 0 0\n",
              " [2,] 1 1\n",
              " [3,] 0 1\n",
              " [4,] 0 0\n",
              " [5,] 1 1\n",
              " [6,] 1 0\n",
              " [7,] 0 0\n",
              " [8,] 1 1\n",
              " [9,] 0 0\n",
              "[10,] 0 1\n",
              "[11,] 0 0\n",
              "[12,] 1 1"
            ]
          },
          "metadata": {}
        }
      ]
    },
    {
      "cell_type": "code",
      "source": [
        "Px <- sum(X) / n\n",
        "PxInv <- 1 - Px\n",
        "Py <- sum(Y) / n\n",
        "PyInv <- 1 - Py\n",
        "Px\n",
        "PxInv\n",
        "Py\n",
        "PyInv"
      ],
      "metadata": {
        "colab": {
          "base_uri": "https://localhost:8080/",
          "height": 85
        },
        "id": "1guwYKGnZtto",
        "outputId": "9b9338e6-6bce-476e-9a6e-9a3d224ea39e"
      },
      "execution_count": 14,
      "outputs": [
        {
          "output_type": "display_data",
          "data": {
            "text/html": [
              "0.416666666666667"
            ],
            "text/markdown": "0.416666666666667",
            "text/latex": "0.416666666666667",
            "text/plain": [
              "[1] 0.4166667"
            ]
          },
          "metadata": {}
        },
        {
          "output_type": "display_data",
          "data": {
            "text/html": [
              "0.583333333333333"
            ],
            "text/markdown": "0.583333333333333",
            "text/latex": "0.583333333333333",
            "text/plain": [
              "[1] 0.5833333"
            ]
          },
          "metadata": {}
        },
        {
          "output_type": "display_data",
          "data": {
            "text/html": [
              "0.5"
            ],
            "text/markdown": "0.5",
            "text/latex": "0.5",
            "text/plain": [
              "[1] 0.5"
            ]
          },
          "metadata": {}
        },
        {
          "output_type": "display_data",
          "data": {
            "text/html": [
              "0.5"
            ],
            "text/markdown": "0.5",
            "text/latex": "0.5",
            "text/plain": [
              "[1] 0.5"
            ]
          },
          "metadata": {}
        }
      ]
    },
    {
      "cell_type": "code",
      "source": [
        "Pxy <- sum(rowSums(data) == 2) / n\n",
        "Pxy\n",
        "rowSums(data)"
      ],
      "metadata": {
        "id": "6mJjZMnMbOfY"
      },
      "execution_count": null,
      "outputs": []
    },
    {
      "cell_type": "code",
      "source": [
        "Phi = (Pxy - Px * Py) / sqrt(Px * PxInv * Py * PyInv)\n",
        "Phi"
      ],
      "metadata": {
        "colab": {
          "base_uri": "https://localhost:8080/",
          "height": 34
        },
        "id": "ONedXaK5b0iB",
        "outputId": "2a2df3c7-85fe-4d29-cefa-30b5bbe80cf5"
      },
      "execution_count": 16,
      "outputs": [
        {
          "output_type": "display_data",
          "data": {
            "text/html": [
              "0.50709255283711"
            ],
            "text/markdown": "0.50709255283711",
            "text/latex": "0.50709255283711",
            "text/plain": [
              "[1] 0.5070926"
            ]
          },
          "metadata": {}
        }
      ]
    },
    {
      "cell_type": "code",
      "source": [
        "Tkrit = 2.23\n",
        "Tphi = abs(Phi) * sqrt((n - 2) / (1 - (Phi * Phi)))\n",
        "Tphi"
      ],
      "metadata": {
        "colab": {
          "base_uri": "https://localhost:8080/",
          "height": 34
        },
        "id": "Ux-cXqXscxbA",
        "outputId": "d6fa1ba4-5b50-4d09-861f-f5959dd95cc7"
      },
      "execution_count": 19,
      "outputs": [
        {
          "output_type": "display_data",
          "data": {
            "text/html": [
              "1.86052101883813"
            ],
            "text/markdown": "1.86052101883813",
            "text/latex": "1.86052101883813",
            "text/plain": [
              "[1] 1.860521"
            ]
          },
          "metadata": {}
        }
      ]
    },
    {
      "cell_type": "code",
      "source": [
        "if (Tphi < Tkrit) {\n",
        "  cat(\"принимается H0 - не обнаружили никакой связи\\n\")\n",
        "} else {\n",
        "  cat(\"принимается H1 - связь есть\\n\")\n",
        "}"
      ],
      "metadata": {
        "colab": {
          "base_uri": "https://localhost:8080/"
        },
        "id": "GwYDG-PicOz2",
        "outputId": "fdb5a981-c577-4ceb-ff50-5708654687d8"
      },
      "execution_count": 20,
      "outputs": [
        {
          "output_type": "stream",
          "name": "stdout",
          "text": [
            "принимается H0 - не обнаружили никакой связи\n"
          ]
        }
      ]
    },
    {
      "cell_type": "code",
      "source": [],
      "metadata": {
        "id": "CtS52cFcfbF1"
      },
      "execution_count": null,
      "outputs": []
    }
  ]
}