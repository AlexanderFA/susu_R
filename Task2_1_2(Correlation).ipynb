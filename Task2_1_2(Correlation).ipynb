{
 "nbformat": 4,
 "nbformat_minor": 0,
 "metadata": {
  "colab": {
   "provenance": []
  },
  "kernelspec": {
   "name": "ir",
   "display_name": "R"
  },
  "language_info": {
   "name": "R"
  },
  "gpuClass": "standard"
 },
 "cells": [
  {
   "cell_type": "code",
   "source": [
    "install.packages(\"moments\")\n",
    "library(moments)"
   ],
   "metadata": {
    "colab": {
     "base_uri": "https://localhost:8080/"
    },
    "id": "FRb_L6-QeBde",
    "outputId": "6a89d36a-43b9-44c6-a1e6-a2ab64d7ecc1",
    "pycharm": {
     "name": "#%%\n"
    }
   },
   "execution_count": 4,
   "outputs": [
    {
     "output_type": "stream",
     "name": "stderr",
     "text": [
      "Installing package into ‘/usr/local/lib/R/site-library’\n",
      "(as ‘lib’ is unspecified)\n",
      "\n"
     ]
    }
   ]
  },
  {
   "cell_type": "code",
   "source": [
    "n <- 1000\n",
    "ri <- sample(10:15, n, replace = TRUE) # n случайных чисел из диапазона от 10 до 15\n",
    "r01 <- runif(n, min = 0, max = 1) # n случайных чисел R(0,1)- равномерно распределённых на интервале (0,1)\n",
    "a <- 4\n",
    "b <- 7\n",
    "rab <- runif(n, min = a, max = b) # генерация n случайных чисел R(a,b)- равномерно распределённых на интервале (a,b)\n",
    "rn <- rnorm(n, mean = 10, sd = 2) # n нормально распределённых с МО=10 и СКО=2"
   ],
   "metadata": {
    "id": "aeogU3m-Y6ml",
    "pycharm": {
     "name": "#%%\n"
    }
   },
   "execution_count": 76,
   "outputs": []
  },
  {
   "cell_type": "code",
   "source": [
    "A <- skewness(rn) #  асимметрия\n",
    "E <- kurtosis(rn) #  эксцесс\n",
    "A\n",
    "E"
   ],
   "metadata": {
    "colab": {
     "base_uri": "https://localhost:8080/",
     "height": 51
    },
    "id": "1guwYKGnZtto",
    "outputId": "db30678b-a747-48bb-f2f3-8f9aaf79f7db",
    "pycharm": {
     "name": "#%%\n"
    }
   },
   "execution_count": 43,
   "outputs": [
    {
     "output_type": "display_data",
     "data": {
      "text/html": [
       "0.0736324468688936"
      ],
      "text/markdown": "0.0736324468688936",
      "text/latex": "0.0736324468688936",
      "text/plain": [
       "[1] 0.07363245"
      ]
     },
     "metadata": {}
    },
    {
     "output_type": "display_data",
     "data": {
      "text/html": [
       "2.94456465041232"
      ],
      "text/markdown": "2.94456465041232",
      "text/latex": "2.94456465041232",
      "text/plain": [
       "[1] 2.944565"
      ]
     },
     "metadata": {}
    }
   ]
  },
  {
   "cell_type": "code",
   "source": [
    "# проверка на нормальность\n",
    "# H0: распределение является нормальным\n",
    "# H1: распределение не является нормальным\n",
    "alfa <- 0.05  #  уровень значимости\n",
    "\n",
    "# проверка на нормальность выборки ri"
   ],
   "metadata": {
    "id": "Z1e6nn5eh9X7",
    "pycharm": {
     "name": "#%%\n"
    }
   },
   "execution_count": 21,
   "outputs": []
  },
  {
   "cell_type": "code",
   "source": [
    "cat(\"первые десять элементов выборки:\", head(r01, 10), \"\\n\")\n",
    "stat <- chisq.test(r01)$statistic\n",
    "p <- chisq.test(r01)$p.value #  тест Хи-квадрат\n",
    "cat(\"ХИ-квадрат:\\n\", sprintf(\"stat=%.2f\", stat), sprintf(\"p=%.5e\", p), \"\\n\")\n",
    "stat <- shapiro.test(r01)$statistic\n",
    "p <- shapiro.test(r01)$p.value #  тест Шапиро-Уилка\n",
    "cat(\"шапиро:\\n\", sprintf(\"stat=%.2f\", stat), sprintf(\"p=%.5e\", p), \"\\n\")"
   ],
   "metadata": {
    "colab": {
     "base_uri": "https://localhost:8080/"
    },
    "id": "df7Lf42AiKJs",
    "outputId": "85a68e43-b42f-4bf7-a497-9b28ba468820",
    "pycharm": {
     "name": "#%%\n"
    }
   },
   "execution_count": 50,
   "outputs": [
    {
     "output_type": "stream",
     "name": "stdout",
     "text": [
      "первые десять элементов выборки: 0.1323946 0.9769184 0.5741834 0.2959576 0.2923914 0.6378553 0.3283008 0.9804605 0.7071629 0.9843324 \n"
     ]
    },
    {
     "output_type": "stream",
     "name": "stderr",
     "text": [
      "Warning message in chisq.test(r01):\n",
      "“Chi-squared approximation may be incorrect”\n",
      "Warning message in chisq.test(r01):\n",
      "“Chi-squared approximation may be incorrect”\n"
     ]
    },
    {
     "output_type": "stream",
     "name": "stdout",
     "text": [
      "ХИ-квадрат:\n",
      " stat=174.31 p=1.00000e+00 \n",
      "шапиро:\n",
      " stat=0.95 p=3.26329e-18 \n"
     ]
    }
   ]
  },
  {
   "cell_type": "code",
   "source": [
    "# p-значение в шапиро тесте значительно меньше alfa в нем\n",
    "# гипотеза H0 отвергается \n",
    "#  распределение не является нормальным"
   ],
   "metadata": {
    "id": "y9v79DtZjSMo",
    "pycharm": {
     "name": "#%%\n"
    }
   },
   "execution_count": null,
   "outputs": []
  },
  {
   "cell_type": "code",
   "source": [
    "# проверка на нормальность выборки rn -  N(10,2)\n",
    "cat(\"первые десять элементов выборки:\", head(rn, 10), \"\\n\")\n",
    "stat <- chisq.test(rn)$statistic\n",
    "p <- chisq.test(rn)$p.value\n",
    "cat(\"ХИ-квадрат:\\n\", sprintf(\"stat=%.5f\", stat), sprintf(\"p=%.2f\", p), \"\\n\")\n",
    "stat <- shapiro.test(rn)$statistic\n",
    "p <- shapiro.test(rn)$p.value\n",
    "cat(\"шапиро:\\n\", sprintf(\"stat=%.2f\", stat), sprintf(\"p=%.2f\", p), \"\\n\")\n",
    "\n"
   ],
   "metadata": {
    "colab": {
     "base_uri": "https://localhost:8080/"
    },
    "id": "GwYDG-PicOz2",
    "outputId": "ecfef8a0-3789-4c69-a608-0c0cad6cbb58",
    "pycharm": {
     "name": "#%%\n"
    }
   },
   "execution_count": 49,
   "outputs": [
    {
     "output_type": "stream",
     "name": "stdout",
     "text": [
      "первые десять элементов выборки: 13.18901 10.35818 8.219777 12.98799 13.02884 9.895747 7.706414 10.77008 7.821254 7.4691 \n",
      "ХИ-квадрат:\n",
      " stat=405.01329 p=1.00 \n",
      "шапиро:\n",
      " stat=1.00 p=0.35 \n"
     ]
    }
   ]
  },
  {
   "cell_type": "code",
   "source": [
    "# p-значение в обоих тестах значительно больше alfa\n",
    "# гипотеза H0 принимается \n",
    "# распределение является нормальным"
   ],
   "metadata": {
    "id": "CtS52cFcfbF1",
    "pycharm": {
     "name": "#%%\n"
    }
   },
   "execution_count": 27,
   "outputs": []
  },
  {
   "cell_type": "code",
   "source": [
    "# коэффициент линейной корреляции Пирсона ( данные распределены нормально)\n",
    "# rn - N(10,2)\n",
    "X <- rn\n",
    "Y <- sin(rn)\n",
    "corT <- cor.test(X, Y, method = \"pearson\")\n",
    "sprintf(\"statistic=%.10f\", corT$estimate)\n",
    "if (cor.test(X, Y, method = \"pearson\")$p.value < alfa) {\n",
    "  cat(\"H0 отвергается, принимается H1 - коэффициент значим (связь есть)\\n\")\n",
    "} else {\n",
    "  cat(\"H0 принимается - коэффициент незначим (связи нет)\\n\")\n",
    "}"
   ],
   "metadata": {
    "colab": {
     "base_uri": "https://localhost:8080/",
     "height": 51
    },
    "id": "k7rAMQL9mDVF",
    "outputId": "09387c51-53a6-471f-a3cc-af7ccda6ae9a",
    "pycharm": {
     "name": "#%%\n"
    }
   },
   "execution_count": 65,
   "outputs": [
    {
     "output_type": "display_data",
     "data": {
      "text/html": [
       "'statistic=-0.2912034857'"
      ],
      "text/markdown": "'statistic=-0.2912034857'",
      "text/latex": "'statistic=-0.2912034857'",
      "text/plain": [
       "[1] \"statistic=-0.2912034857\""
      ]
     },
     "metadata": {}
    },
    {
     "output_type": "stream",
     "name": "stdout",
     "text": [
      "H0 отвергается, принимается H1 - коэффициент значим (связь есть)\n"
     ]
    }
   ]
  },
  {
   "cell_type": "code",
   "source": [
    "# коэффициент корреляции Спирмена(данные ранговые или метрические, но не распределены нормально)\n",
    "# r01 - R(0,1)\n",
    "# rab - R(4,7)\n",
    "tat <- cor.test(rab, r01, method = \"spearman\")$estimate\n",
    "p <- cor.test(rab, r01, method = \"spearman\")$p.value\n",
    "tat\n",
    "p\n",
    "cat(\"коэффициент корреляции Спирмена равен\", sprintf(\"%.2f\", tat), \"\\n\")\n",
    "if (p < alfa) {\n",
    "  cat(\"H0 отвергается, принимается H1 - коэффициент значим (связь есть)\\n\")\n",
    "} else {\n",
    "  cat(\"H0 принимается - коэффициент незначим (связи нет)\\n\")\n",
    "}"
   ],
   "metadata": {
    "colab": {
     "base_uri": "https://localhost:8080/",
     "height": 84
    },
    "id": "JnYY_131mKM2",
    "outputId": "fcc04338-1121-49c2-8da7-46460d59e5c3",
    "pycharm": {
     "name": "#%%\n"
    }
   },
   "execution_count": 70,
   "outputs": [
    {
     "output_type": "display_data",
     "data": {
      "text/html": [
       "<strong>rho:</strong> -0.0302583902583903"
      ],
      "text/markdown": "**rho:** -0.0302583902583903",
      "text/latex": "\\textbf{rho:} -0.0302583902583903",
      "text/plain": [
       "        rho \n",
       "-0.03025839 "
      ]
     },
     "metadata": {}
    },
    {
     "output_type": "display_data",
     "data": {
      "text/html": [
       "0.33907423479119"
      ],
      "text/markdown": "0.33907423479119",
      "text/latex": "0.33907423479119",
      "text/plain": [
       "[1] 0.3390742"
      ]
     },
     "metadata": {}
    },
    {
     "output_type": "stream",
     "name": "stdout",
     "text": [
      "коэффициент корреляции Спирмена равен -0.03 \n",
      "H0 принимается - коэффициент незначим (связи нет)\n"
     ]
    }
   ]
  },
  {
   "cell_type": "code",
   "source": [
    "# коэффициент корреляции Кендалла (данные ранговые или метрические, но не распределены нормально)\n",
    "# r01 - R(0,1)\n",
    "# rab - R(4,7)\n",
    "stat.p <- cor.test(rab, r01, method=\"kendall\", alternative=\"two.sided\")\n",
    "cat(\"Коэффициент корреляции Кендалла равен\", round(stat.p$estimate,3), \"\\n\")\n",
    "if (stat.p$p.value < alfa) {\n",
    "  cat(\"H0 отвергается, принимается H1 - коэффициент значим (связь есть)\\n\")\n",
    "} else {\n",
    "  cat(\"H0 принимается - коэффициент незначим (связи нет)\\n\")\n",
    "}"
   ],
   "metadata": {
    "colab": {
     "base_uri": "https://localhost:8080/"
    },
    "id": "ByKcY_2Am_ok",
    "outputId": "00808b3d-8151-4713-dc0d-8140aabfa1ba",
    "pycharm": {
     "name": "#%%\n"
    }
   },
   "execution_count": 71,
   "outputs": [
    {
     "output_type": "stream",
     "name": "stdout",
     "text": [
      "Коэффициент корреляции Кендалла равен -0.02 \n",
      "H0 принимается - коэффициент незначим (связи нет)\n"
     ]
    }
   ]
  },
  {
   "cell_type": "code",
   "source": [
    "# построение гистограммы\n",
    "#rn - N(10,2) - n значений\n",
    "#rab - R(4,7) - n значений\n",
    "#r01 - R(0,1) - n  значений\n",
    "hist(rn, breaks = 7) # гистограмма с разбиением на 7 интервалов (по умолчанию 10 интервалов)"
   ],
   "metadata": {
    "colab": {
     "base_uri": "https://localhost:8080/",
     "height": 438
    },
    "id": "QOzIVVi4n647",
    "outputId": "b205f032-db20-44e1-99b2-f43eddb4049a",
    "pycharm": {
     "name": "#%%\n"
    }
   },
   "execution_count": 74,
   "outputs": [
    {
     "output_type": "display_data",
     "data": {
      "text/plain": [
       "Plot with title “Histogram of rn”"
      ],
      "image/png": "[encoded data removed]"
     },
     "metadata": {
      "image/png": {
       "width": 420,
       "height": 420
      }
     }
    }
   ]
  },
  {
   "cell_type": "code",
   "source": [
    "# диаграмма рассеяния\n",
    "# import matplotlib.pyplot as plt\n",
    "# Создаем случайные векторы данных\n",
    "# rn <- rnorm(50, mean=10, sd=2)\n",
    "# rab <- runif(50, min=4, max=7)\n",
    "# r01 <- rbinom(50, 1, 0.5)\n",
    "\n",
    "# Создаем график\n",
    "plot(x = rn, y = rn + r01, xlab = \"rn\", ylab = \"rab\", main = \"Точечный график\")\n",
    "\n",
    "# Добавляем линию регрессии\n",
    "# abline(lm(rn ~ rab), col=\"red\")"
   ],
   "metadata": {
    "colab": {
     "base_uri": "https://localhost:8080/",
     "height": 438
    },
    "id": "YJHKTco2oJ5c",
    "outputId": "c471d86f-3849-4d06-b5ab-a2e72eb139e3",
    "pycharm": {
     "name": "#%%\n"
    }
   },
   "execution_count": 96,
   "outputs": [
    {
     "output_type": "display_data",
     "data": {
      "text/plain": [
       "Plot with title “Точечный график”"
      ],
      "image/png": "[encoded data removed]"
     },
     "metadata": {
      "image/png": {
       "width": 420,
       "height": 420
      }
     }
    }
   ]
  },
  {
   "cell_type": "code",
   "source": [],
   "metadata": {
    "id": "8Ax__CSDomOn",
    "pycharm": {
     "name": "#%%\n"
    }
   },
   "execution_count": null,
   "outputs": []
  }
 ]
}